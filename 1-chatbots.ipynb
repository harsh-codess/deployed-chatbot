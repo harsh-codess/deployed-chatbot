{
 "cells": [
  {
   "cell_type": "markdown",
   "metadata": {},
   "source": [
    "## Building A Chatbot\n",
    "In this video We'll go over an example of how to design and implement an LLM-powered chatbot. This chatbot will be able to have a conversation and remember previous interactions.\n",
    "\n",
    "Note that this chatbot that we build will only use the language model to have a conversation. There are several other related concepts that you may be looking for:\n",
    "\n",
    "- Conversational RAG: Enable a chatbot experience over an external source of data\n",
    "- Agents: Build a chatbot that can take actions\n",
    "\n",
    "This video tutorial will cover the basics which will be helpful for those two more advanced topics."
   ]
  },
  {
   "cell_type": "code",
   "execution_count": 80,
   "metadata": {},
   "outputs": [
    {
     "name": "stdout",
     "output_type": "stream",
     "text": [
      "✅ Using API key from environment variables\n",
      "API key configured: Yes\n"
     ]
    }
   ],
   "source": [
    "import os\n",
    "from dotenv import load_dotenv\n",
    "load_dotenv() \n",
    "\n",
    "groq_api_key = os.getenv(\"GROQ_API_KEY\")\n",
    "\n",
    "\n",
    "if groq_api_key is None:\n",
    "    # SECURITY WARNING: Never commit real API keys to version control!\n",
    "    # Replace 'your_api_key_here' with your actual Groq API key\n",
    "    # Get your API key from: https://console.groq.com/keys\n",
    "    groq_api_key = \"your_api_key_here\" \n",
    "    print(\"⚠️ Using placeholder API key - replace with your actual key\")\n",
    "else:\n",
    "    print(\"✅ Using API key from environment variables\")\n",
    "\n",
    "print(f\"API key configured: {'Yes' if groq_api_key and groq_api_key != 'your_api_key_here' else 'No (placeholder)'}\")"
   ]
  },
  {
   "cell_type": "code",
   "execution_count": 81,
   "metadata": {},
   "outputs": [
    {
     "data": {
      "text/plain": [
       "ChatGroq(client=<groq.resources.chat.completions.Completions object at 0x0000023DDEF2BC10>, async_client=<groq.resources.chat.completions.AsyncCompletions object at 0x0000023DDEF2B6A0>, model_name='Gemma2-9b-It', model_kwargs={}, groq_api_key=SecretStr('**********'))"
      ]
     },
     "execution_count": 81,
     "metadata": {},
     "output_type": "execute_result"
    }
   ],
   "source": [
    "from langchain_groq import ChatGroq\n",
    "model=ChatGroq(model=\"Gemma2-9b-It\",groq_api_key=groq_api_key)\n",
    "model"
   ]
  },
  {
   "cell_type": "code",
   "execution_count": 82,
   "metadata": {},
   "outputs": [
    {
     "ename": "AuthenticationError",
     "evalue": "Error code: 401 - {'error': {'message': 'Invalid API Key', 'type': 'invalid_request_error', 'code': 'invalid_api_key'}}",
     "output_type": "error",
     "traceback": [
      "\u001b[1;31m---------------------------------------------------------------------------\u001b[0m",
      "\u001b[1;31mAuthenticationError\u001b[0m                       Traceback (most recent call last)",
      "Cell \u001b[1;32mIn[82], line 19\u001b[0m\n\u001b[0;32m     17\u001b[0m \u001b[38;5;28;01melse\u001b[39;00m:\n\u001b[0;32m     18\u001b[0m     model \u001b[38;5;241m=\u001b[39m ChatGroq(model\u001b[38;5;241m=\u001b[39m\u001b[38;5;124m\"\u001b[39m\u001b[38;5;124mGemma2-9b-It\u001b[39m\u001b[38;5;124m\"\u001b[39m, groq_api_key\u001b[38;5;241m=\u001b[39mapi_key_to_use)\n\u001b[1;32m---> 19\u001b[0m     \u001b[43mmodel\u001b[49m\u001b[38;5;241;43m.\u001b[39;49m\u001b[43minvoke\u001b[49m\u001b[43m(\u001b[49m\u001b[43m[\u001b[49m\u001b[43mHumanMessage\u001b[49m\u001b[43m(\u001b[49m\u001b[43mcontent\u001b[49m\u001b[38;5;241;43m=\u001b[39;49m\u001b[38;5;124;43m\"\u001b[39;49m\u001b[38;5;124;43mHi , My name is harsh and I am a  AI Engineer\u001b[39;49m\u001b[38;5;124;43m\"\u001b[39;49m\u001b[43m)\u001b[49m\u001b[43m]\u001b[49m\u001b[43m)\u001b[49m\n",
      "File \u001b[1;32mc:\\Users\\Sunil\\anaconda3\\envs\\cleanenv\\lib\\site-packages\\langchain_core\\language_models\\chat_models.py:370\u001b[0m, in \u001b[0;36mBaseChatModel.invoke\u001b[1;34m(self, input, config, stop, **kwargs)\u001b[0m\n\u001b[0;32m    358\u001b[0m \u001b[38;5;129m@override\u001b[39m\n\u001b[0;32m    359\u001b[0m \u001b[38;5;28;01mdef\u001b[39;00m\u001b[38;5;250m \u001b[39m\u001b[38;5;21minvoke\u001b[39m(\n\u001b[0;32m    360\u001b[0m     \u001b[38;5;28mself\u001b[39m,\n\u001b[1;32m   (...)\u001b[0m\n\u001b[0;32m    365\u001b[0m     \u001b[38;5;241m*\u001b[39m\u001b[38;5;241m*\u001b[39mkwargs: Any,\n\u001b[0;32m    366\u001b[0m ) \u001b[38;5;241m-\u001b[39m\u001b[38;5;241m>\u001b[39m BaseMessage:\n\u001b[0;32m    367\u001b[0m     config \u001b[38;5;241m=\u001b[39m ensure_config(config)\n\u001b[0;32m    368\u001b[0m     \u001b[38;5;28;01mreturn\u001b[39;00m cast(\n\u001b[0;32m    369\u001b[0m         \u001b[38;5;124m\"\u001b[39m\u001b[38;5;124mChatGeneration\u001b[39m\u001b[38;5;124m\"\u001b[39m,\n\u001b[1;32m--> 370\u001b[0m         \u001b[38;5;28mself\u001b[39m\u001b[38;5;241m.\u001b[39mgenerate_prompt(\n\u001b[0;32m    371\u001b[0m             [\u001b[38;5;28mself\u001b[39m\u001b[38;5;241m.\u001b[39m_convert_input(\u001b[38;5;28minput\u001b[39m)],\n\u001b[0;32m    372\u001b[0m             stop\u001b[38;5;241m=\u001b[39mstop,\n\u001b[0;32m    373\u001b[0m             callbacks\u001b[38;5;241m=\u001b[39mconfig\u001b[38;5;241m.\u001b[39mget(\u001b[38;5;124m\"\u001b[39m\u001b[38;5;124mcallbacks\u001b[39m\u001b[38;5;124m\"\u001b[39m),\n\u001b[0;32m    374\u001b[0m             tags\u001b[38;5;241m=\u001b[39mconfig\u001b[38;5;241m.\u001b[39mget(\u001b[38;5;124m\"\u001b[39m\u001b[38;5;124mtags\u001b[39m\u001b[38;5;124m\"\u001b[39m),\n\u001b[0;32m    375\u001b[0m             metadata\u001b[38;5;241m=\u001b[39mconfig\u001b[38;5;241m.\u001b[39mget(\u001b[38;5;124m\"\u001b[39m\u001b[38;5;124mmetadata\u001b[39m\u001b[38;5;124m\"\u001b[39m),\n\u001b[0;32m    376\u001b[0m             run_name\u001b[38;5;241m=\u001b[39mconfig\u001b[38;5;241m.\u001b[39mget(\u001b[38;5;124m\"\u001b[39m\u001b[38;5;124mrun_name\u001b[39m\u001b[38;5;124m\"\u001b[39m),\n\u001b[0;32m    377\u001b[0m             run_id\u001b[38;5;241m=\u001b[39mconfig\u001b[38;5;241m.\u001b[39mpop(\u001b[38;5;124m\"\u001b[39m\u001b[38;5;124mrun_id\u001b[39m\u001b[38;5;124m\"\u001b[39m, \u001b[38;5;28;01mNone\u001b[39;00m),\n\u001b[0;32m    378\u001b[0m             \u001b[38;5;241m*\u001b[39m\u001b[38;5;241m*\u001b[39mkwargs,\n\u001b[0;32m    379\u001b[0m         )\u001b[38;5;241m.\u001b[39mgenerations[\u001b[38;5;241m0\u001b[39m][\u001b[38;5;241m0\u001b[39m],\n\u001b[0;32m    380\u001b[0m     )\u001b[38;5;241m.\u001b[39mmessage\n",
      "File \u001b[1;32mc:\\Users\\Sunil\\anaconda3\\envs\\cleanenv\\lib\\site-packages\\langchain_core\\language_models\\chat_models.py:947\u001b[0m, in \u001b[0;36mBaseChatModel.generate_prompt\u001b[1;34m(self, prompts, stop, callbacks, **kwargs)\u001b[0m\n\u001b[0;32m    938\u001b[0m \u001b[38;5;129m@override\u001b[39m\n\u001b[0;32m    939\u001b[0m \u001b[38;5;28;01mdef\u001b[39;00m\u001b[38;5;250m \u001b[39m\u001b[38;5;21mgenerate_prompt\u001b[39m(\n\u001b[0;32m    940\u001b[0m     \u001b[38;5;28mself\u001b[39m,\n\u001b[1;32m   (...)\u001b[0m\n\u001b[0;32m    944\u001b[0m     \u001b[38;5;241m*\u001b[39m\u001b[38;5;241m*\u001b[39mkwargs: Any,\n\u001b[0;32m    945\u001b[0m ) \u001b[38;5;241m-\u001b[39m\u001b[38;5;241m>\u001b[39m LLMResult:\n\u001b[0;32m    946\u001b[0m     prompt_messages \u001b[38;5;241m=\u001b[39m [p\u001b[38;5;241m.\u001b[39mto_messages() \u001b[38;5;28;01mfor\u001b[39;00m p \u001b[38;5;129;01min\u001b[39;00m prompts]\n\u001b[1;32m--> 947\u001b[0m     \u001b[38;5;28;01mreturn\u001b[39;00m \u001b[38;5;28mself\u001b[39m\u001b[38;5;241m.\u001b[39mgenerate(prompt_messages, stop\u001b[38;5;241m=\u001b[39mstop, callbacks\u001b[38;5;241m=\u001b[39mcallbacks, \u001b[38;5;241m*\u001b[39m\u001b[38;5;241m*\u001b[39mkwargs)\n",
      "File \u001b[1;32mc:\\Users\\Sunil\\anaconda3\\envs\\cleanenv\\lib\\site-packages\\langchain_core\\language_models\\chat_models.py:766\u001b[0m, in \u001b[0;36mBaseChatModel.generate\u001b[1;34m(self, messages, stop, callbacks, tags, metadata, run_name, run_id, **kwargs)\u001b[0m\n\u001b[0;32m    763\u001b[0m \u001b[38;5;28;01mfor\u001b[39;00m i, m \u001b[38;5;129;01min\u001b[39;00m \u001b[38;5;28menumerate\u001b[39m(input_messages):\n\u001b[0;32m    764\u001b[0m     \u001b[38;5;28;01mtry\u001b[39;00m:\n\u001b[0;32m    765\u001b[0m         results\u001b[38;5;241m.\u001b[39mappend(\n\u001b[1;32m--> 766\u001b[0m             \u001b[38;5;28mself\u001b[39m\u001b[38;5;241m.\u001b[39m_generate_with_cache(\n\u001b[0;32m    767\u001b[0m                 m,\n\u001b[0;32m    768\u001b[0m                 stop\u001b[38;5;241m=\u001b[39mstop,\n\u001b[0;32m    769\u001b[0m                 run_manager\u001b[38;5;241m=\u001b[39mrun_managers[i] \u001b[38;5;28;01mif\u001b[39;00m run_managers \u001b[38;5;28;01melse\u001b[39;00m \u001b[38;5;28;01mNone\u001b[39;00m,\n\u001b[0;32m    770\u001b[0m                 \u001b[38;5;241m*\u001b[39m\u001b[38;5;241m*\u001b[39mkwargs,\n\u001b[0;32m    771\u001b[0m             )\n\u001b[0;32m    772\u001b[0m         )\n\u001b[0;32m    773\u001b[0m     \u001b[38;5;28;01mexcept\u001b[39;00m \u001b[38;5;167;01mBaseException\u001b[39;00m \u001b[38;5;28;01mas\u001b[39;00m e:\n\u001b[0;32m    774\u001b[0m         \u001b[38;5;28;01mif\u001b[39;00m run_managers:\n",
      "File \u001b[1;32mc:\\Users\\Sunil\\anaconda3\\envs\\cleanenv\\lib\\site-packages\\langchain_core\\language_models\\chat_models.py:1012\u001b[0m, in \u001b[0;36mBaseChatModel._generate_with_cache\u001b[1;34m(self, messages, stop, run_manager, **kwargs)\u001b[0m\n\u001b[0;32m   1010\u001b[0m     result \u001b[38;5;241m=\u001b[39m generate_from_stream(\u001b[38;5;28miter\u001b[39m(chunks))\n\u001b[0;32m   1011\u001b[0m \u001b[38;5;28;01melif\u001b[39;00m inspect\u001b[38;5;241m.\u001b[39msignature(\u001b[38;5;28mself\u001b[39m\u001b[38;5;241m.\u001b[39m_generate)\u001b[38;5;241m.\u001b[39mparameters\u001b[38;5;241m.\u001b[39mget(\u001b[38;5;124m\"\u001b[39m\u001b[38;5;124mrun_manager\u001b[39m\u001b[38;5;124m\"\u001b[39m):\n\u001b[1;32m-> 1012\u001b[0m     result \u001b[38;5;241m=\u001b[39m \u001b[38;5;28mself\u001b[39m\u001b[38;5;241m.\u001b[39m_generate(\n\u001b[0;32m   1013\u001b[0m         messages, stop\u001b[38;5;241m=\u001b[39mstop, run_manager\u001b[38;5;241m=\u001b[39mrun_manager, \u001b[38;5;241m*\u001b[39m\u001b[38;5;241m*\u001b[39mkwargs\n\u001b[0;32m   1014\u001b[0m     )\n\u001b[0;32m   1015\u001b[0m \u001b[38;5;28;01melse\u001b[39;00m:\n\u001b[0;32m   1016\u001b[0m     result \u001b[38;5;241m=\u001b[39m \u001b[38;5;28mself\u001b[39m\u001b[38;5;241m.\u001b[39m_generate(messages, stop\u001b[38;5;241m=\u001b[39mstop, \u001b[38;5;241m*\u001b[39m\u001b[38;5;241m*\u001b[39mkwargs)\n",
      "File \u001b[1;32mc:\\Users\\Sunil\\anaconda3\\envs\\cleanenv\\lib\\site-packages\\langchain_groq\\chat_models.py:498\u001b[0m, in \u001b[0;36mChatGroq._generate\u001b[1;34m(self, messages, stop, run_manager, **kwargs)\u001b[0m\n\u001b[0;32m    493\u001b[0m message_dicts, params \u001b[38;5;241m=\u001b[39m \u001b[38;5;28mself\u001b[39m\u001b[38;5;241m.\u001b[39m_create_message_dicts(messages, stop)\n\u001b[0;32m    494\u001b[0m params \u001b[38;5;241m=\u001b[39m {\n\u001b[0;32m    495\u001b[0m     \u001b[38;5;241m*\u001b[39m\u001b[38;5;241m*\u001b[39mparams,\n\u001b[0;32m    496\u001b[0m     \u001b[38;5;241m*\u001b[39m\u001b[38;5;241m*\u001b[39mkwargs,\n\u001b[0;32m    497\u001b[0m }\n\u001b[1;32m--> 498\u001b[0m response \u001b[38;5;241m=\u001b[39m \u001b[38;5;28mself\u001b[39m\u001b[38;5;241m.\u001b[39mclient\u001b[38;5;241m.\u001b[39mcreate(messages\u001b[38;5;241m=\u001b[39mmessage_dicts, \u001b[38;5;241m*\u001b[39m\u001b[38;5;241m*\u001b[39mparams)\n\u001b[0;32m    499\u001b[0m \u001b[38;5;28;01mreturn\u001b[39;00m \u001b[38;5;28mself\u001b[39m\u001b[38;5;241m.\u001b[39m_create_chat_result(response)\n",
      "File \u001b[1;32mc:\\Users\\Sunil\\anaconda3\\envs\\cleanenv\\lib\\site-packages\\groq\\resources\\chat\\completions.py:361\u001b[0m, in \u001b[0;36mCompletions.create\u001b[1;34m(self, messages, model, exclude_domains, frequency_penalty, function_call, functions, include_domains, logit_bias, logprobs, max_completion_tokens, max_tokens, metadata, n, parallel_tool_calls, presence_penalty, reasoning_format, response_format, search_settings, seed, service_tier, stop, store, stream, temperature, tool_choice, tools, top_logprobs, top_p, user, extra_headers, extra_query, extra_body, timeout)\u001b[0m\n\u001b[0;32m    178\u001b[0m \u001b[38;5;28;01mdef\u001b[39;00m\u001b[38;5;250m \u001b[39m\u001b[38;5;21mcreate\u001b[39m(\n\u001b[0;32m    179\u001b[0m     \u001b[38;5;28mself\u001b[39m,\n\u001b[0;32m    180\u001b[0m     \u001b[38;5;241m*\u001b[39m,\n\u001b[1;32m   (...)\u001b[0m\n\u001b[0;32m    225\u001b[0m     timeout: \u001b[38;5;28mfloat\u001b[39m \u001b[38;5;241m|\u001b[39m httpx\u001b[38;5;241m.\u001b[39mTimeout \u001b[38;5;241m|\u001b[39m \u001b[38;5;28;01mNone\u001b[39;00m \u001b[38;5;241m|\u001b[39m NotGiven \u001b[38;5;241m=\u001b[39m NOT_GIVEN,\n\u001b[0;32m    226\u001b[0m ) \u001b[38;5;241m-\u001b[39m\u001b[38;5;241m>\u001b[39m ChatCompletion \u001b[38;5;241m|\u001b[39m Stream[ChatCompletionChunk]:\n\u001b[0;32m    227\u001b[0m \u001b[38;5;250m    \u001b[39m\u001b[38;5;124;03m\"\"\"\u001b[39;00m\n\u001b[0;32m    228\u001b[0m \u001b[38;5;124;03m    Creates a model response for the given chat conversation.\u001b[39;00m\n\u001b[0;32m    229\u001b[0m \n\u001b[1;32m   (...)\u001b[0m\n\u001b[0;32m    359\u001b[0m \u001b[38;5;124;03m      timeout: Override the client-level default timeout for this request, in seconds\u001b[39;00m\n\u001b[0;32m    360\u001b[0m \u001b[38;5;124;03m    \"\"\"\u001b[39;00m\n\u001b[1;32m--> 361\u001b[0m     \u001b[38;5;28;01mreturn\u001b[39;00m \u001b[38;5;28;43mself\u001b[39;49m\u001b[38;5;241;43m.\u001b[39;49m\u001b[43m_post\u001b[49m\u001b[43m(\u001b[49m\n\u001b[0;32m    362\u001b[0m \u001b[43m        \u001b[49m\u001b[38;5;124;43m\"\u001b[39;49m\u001b[38;5;124;43m/openai/v1/chat/completions\u001b[39;49m\u001b[38;5;124;43m\"\u001b[39;49m\u001b[43m,\u001b[49m\n\u001b[0;32m    363\u001b[0m \u001b[43m        \u001b[49m\u001b[43mbody\u001b[49m\u001b[38;5;241;43m=\u001b[39;49m\u001b[43mmaybe_transform\u001b[49m\u001b[43m(\u001b[49m\n\u001b[0;32m    364\u001b[0m \u001b[43m            \u001b[49m\u001b[43m{\u001b[49m\n\u001b[0;32m    365\u001b[0m \u001b[43m                \u001b[49m\u001b[38;5;124;43m\"\u001b[39;49m\u001b[38;5;124;43mmessages\u001b[39;49m\u001b[38;5;124;43m\"\u001b[39;49m\u001b[43m:\u001b[49m\u001b[43m \u001b[49m\u001b[43mmessages\u001b[49m\u001b[43m,\u001b[49m\n\u001b[0;32m    366\u001b[0m \u001b[43m                \u001b[49m\u001b[38;5;124;43m\"\u001b[39;49m\u001b[38;5;124;43mmodel\u001b[39;49m\u001b[38;5;124;43m\"\u001b[39;49m\u001b[43m:\u001b[49m\u001b[43m \u001b[49m\u001b[43mmodel\u001b[49m\u001b[43m,\u001b[49m\n\u001b[0;32m    367\u001b[0m \u001b[43m                \u001b[49m\u001b[38;5;124;43m\"\u001b[39;49m\u001b[38;5;124;43mexclude_domains\u001b[39;49m\u001b[38;5;124;43m\"\u001b[39;49m\u001b[43m:\u001b[49m\u001b[43m \u001b[49m\u001b[43mexclude_domains\u001b[49m\u001b[43m,\u001b[49m\n\u001b[0;32m    368\u001b[0m \u001b[43m                \u001b[49m\u001b[38;5;124;43m\"\u001b[39;49m\u001b[38;5;124;43mfrequency_penalty\u001b[39;49m\u001b[38;5;124;43m\"\u001b[39;49m\u001b[43m:\u001b[49m\u001b[43m \u001b[49m\u001b[43mfrequency_penalty\u001b[49m\u001b[43m,\u001b[49m\n\u001b[0;32m    369\u001b[0m \u001b[43m                \u001b[49m\u001b[38;5;124;43m\"\u001b[39;49m\u001b[38;5;124;43mfunction_call\u001b[39;49m\u001b[38;5;124;43m\"\u001b[39;49m\u001b[43m:\u001b[49m\u001b[43m \u001b[49m\u001b[43mfunction_call\u001b[49m\u001b[43m,\u001b[49m\n\u001b[0;32m    370\u001b[0m \u001b[43m                \u001b[49m\u001b[38;5;124;43m\"\u001b[39;49m\u001b[38;5;124;43mfunctions\u001b[39;49m\u001b[38;5;124;43m\"\u001b[39;49m\u001b[43m:\u001b[49m\u001b[43m \u001b[49m\u001b[43mfunctions\u001b[49m\u001b[43m,\u001b[49m\n\u001b[0;32m    371\u001b[0m \u001b[43m                \u001b[49m\u001b[38;5;124;43m\"\u001b[39;49m\u001b[38;5;124;43minclude_domains\u001b[39;49m\u001b[38;5;124;43m\"\u001b[39;49m\u001b[43m:\u001b[49m\u001b[43m \u001b[49m\u001b[43minclude_domains\u001b[49m\u001b[43m,\u001b[49m\n\u001b[0;32m    372\u001b[0m \u001b[43m                \u001b[49m\u001b[38;5;124;43m\"\u001b[39;49m\u001b[38;5;124;43mlogit_bias\u001b[39;49m\u001b[38;5;124;43m\"\u001b[39;49m\u001b[43m:\u001b[49m\u001b[43m \u001b[49m\u001b[43mlogit_bias\u001b[49m\u001b[43m,\u001b[49m\n\u001b[0;32m    373\u001b[0m \u001b[43m                \u001b[49m\u001b[38;5;124;43m\"\u001b[39;49m\u001b[38;5;124;43mlogprobs\u001b[39;49m\u001b[38;5;124;43m\"\u001b[39;49m\u001b[43m:\u001b[49m\u001b[43m \u001b[49m\u001b[43mlogprobs\u001b[49m\u001b[43m,\u001b[49m\n\u001b[0;32m    374\u001b[0m \u001b[43m                \u001b[49m\u001b[38;5;124;43m\"\u001b[39;49m\u001b[38;5;124;43mmax_completion_tokens\u001b[39;49m\u001b[38;5;124;43m\"\u001b[39;49m\u001b[43m:\u001b[49m\u001b[43m \u001b[49m\u001b[43mmax_completion_tokens\u001b[49m\u001b[43m,\u001b[49m\n\u001b[0;32m    375\u001b[0m \u001b[43m                \u001b[49m\u001b[38;5;124;43m\"\u001b[39;49m\u001b[38;5;124;43mmax_tokens\u001b[39;49m\u001b[38;5;124;43m\"\u001b[39;49m\u001b[43m:\u001b[49m\u001b[43m \u001b[49m\u001b[43mmax_tokens\u001b[49m\u001b[43m,\u001b[49m\n\u001b[0;32m    376\u001b[0m \u001b[43m                \u001b[49m\u001b[38;5;124;43m\"\u001b[39;49m\u001b[38;5;124;43mmetadata\u001b[39;49m\u001b[38;5;124;43m\"\u001b[39;49m\u001b[43m:\u001b[49m\u001b[43m \u001b[49m\u001b[43mmetadata\u001b[49m\u001b[43m,\u001b[49m\n\u001b[0;32m    377\u001b[0m \u001b[43m                \u001b[49m\u001b[38;5;124;43m\"\u001b[39;49m\u001b[38;5;124;43mn\u001b[39;49m\u001b[38;5;124;43m\"\u001b[39;49m\u001b[43m:\u001b[49m\u001b[43m \u001b[49m\u001b[43mn\u001b[49m\u001b[43m,\u001b[49m\n\u001b[0;32m    378\u001b[0m \u001b[43m                \u001b[49m\u001b[38;5;124;43m\"\u001b[39;49m\u001b[38;5;124;43mparallel_tool_calls\u001b[39;49m\u001b[38;5;124;43m\"\u001b[39;49m\u001b[43m:\u001b[49m\u001b[43m \u001b[49m\u001b[43mparallel_tool_calls\u001b[49m\u001b[43m,\u001b[49m\n\u001b[0;32m    379\u001b[0m \u001b[43m                \u001b[49m\u001b[38;5;124;43m\"\u001b[39;49m\u001b[38;5;124;43mpresence_penalty\u001b[39;49m\u001b[38;5;124;43m\"\u001b[39;49m\u001b[43m:\u001b[49m\u001b[43m \u001b[49m\u001b[43mpresence_penalty\u001b[49m\u001b[43m,\u001b[49m\n\u001b[0;32m    380\u001b[0m \u001b[43m                \u001b[49m\u001b[38;5;124;43m\"\u001b[39;49m\u001b[38;5;124;43mreasoning_format\u001b[39;49m\u001b[38;5;124;43m\"\u001b[39;49m\u001b[43m:\u001b[49m\u001b[43m \u001b[49m\u001b[43mreasoning_format\u001b[49m\u001b[43m,\u001b[49m\n\u001b[0;32m    381\u001b[0m \u001b[43m                \u001b[49m\u001b[38;5;124;43m\"\u001b[39;49m\u001b[38;5;124;43mresponse_format\u001b[39;49m\u001b[38;5;124;43m\"\u001b[39;49m\u001b[43m:\u001b[49m\u001b[43m \u001b[49m\u001b[43mresponse_format\u001b[49m\u001b[43m,\u001b[49m\n\u001b[0;32m    382\u001b[0m \u001b[43m                \u001b[49m\u001b[38;5;124;43m\"\u001b[39;49m\u001b[38;5;124;43msearch_settings\u001b[39;49m\u001b[38;5;124;43m\"\u001b[39;49m\u001b[43m:\u001b[49m\u001b[43m \u001b[49m\u001b[43msearch_settings\u001b[49m\u001b[43m,\u001b[49m\n\u001b[0;32m    383\u001b[0m \u001b[43m                \u001b[49m\u001b[38;5;124;43m\"\u001b[39;49m\u001b[38;5;124;43mseed\u001b[39;49m\u001b[38;5;124;43m\"\u001b[39;49m\u001b[43m:\u001b[49m\u001b[43m \u001b[49m\u001b[43mseed\u001b[49m\u001b[43m,\u001b[49m\n\u001b[0;32m    384\u001b[0m \u001b[43m                \u001b[49m\u001b[38;5;124;43m\"\u001b[39;49m\u001b[38;5;124;43mservice_tier\u001b[39;49m\u001b[38;5;124;43m\"\u001b[39;49m\u001b[43m:\u001b[49m\u001b[43m \u001b[49m\u001b[43mservice_tier\u001b[49m\u001b[43m,\u001b[49m\n\u001b[0;32m    385\u001b[0m \u001b[43m                \u001b[49m\u001b[38;5;124;43m\"\u001b[39;49m\u001b[38;5;124;43mstop\u001b[39;49m\u001b[38;5;124;43m\"\u001b[39;49m\u001b[43m:\u001b[49m\u001b[43m \u001b[49m\u001b[43mstop\u001b[49m\u001b[43m,\u001b[49m\n\u001b[0;32m    386\u001b[0m \u001b[43m                \u001b[49m\u001b[38;5;124;43m\"\u001b[39;49m\u001b[38;5;124;43mstore\u001b[39;49m\u001b[38;5;124;43m\"\u001b[39;49m\u001b[43m:\u001b[49m\u001b[43m \u001b[49m\u001b[43mstore\u001b[49m\u001b[43m,\u001b[49m\n\u001b[0;32m    387\u001b[0m \u001b[43m                \u001b[49m\u001b[38;5;124;43m\"\u001b[39;49m\u001b[38;5;124;43mstream\u001b[39;49m\u001b[38;5;124;43m\"\u001b[39;49m\u001b[43m:\u001b[49m\u001b[43m \u001b[49m\u001b[43mstream\u001b[49m\u001b[43m,\u001b[49m\n\u001b[0;32m    388\u001b[0m \u001b[43m                \u001b[49m\u001b[38;5;124;43m\"\u001b[39;49m\u001b[38;5;124;43mtemperature\u001b[39;49m\u001b[38;5;124;43m\"\u001b[39;49m\u001b[43m:\u001b[49m\u001b[43m \u001b[49m\u001b[43mtemperature\u001b[49m\u001b[43m,\u001b[49m\n\u001b[0;32m    389\u001b[0m \u001b[43m                \u001b[49m\u001b[38;5;124;43m\"\u001b[39;49m\u001b[38;5;124;43mtool_choice\u001b[39;49m\u001b[38;5;124;43m\"\u001b[39;49m\u001b[43m:\u001b[49m\u001b[43m \u001b[49m\u001b[43mtool_choice\u001b[49m\u001b[43m,\u001b[49m\n\u001b[0;32m    390\u001b[0m \u001b[43m                \u001b[49m\u001b[38;5;124;43m\"\u001b[39;49m\u001b[38;5;124;43mtools\u001b[39;49m\u001b[38;5;124;43m\"\u001b[39;49m\u001b[43m:\u001b[49m\u001b[43m \u001b[49m\u001b[43mtools\u001b[49m\u001b[43m,\u001b[49m\n\u001b[0;32m    391\u001b[0m \u001b[43m                \u001b[49m\u001b[38;5;124;43m\"\u001b[39;49m\u001b[38;5;124;43mtop_logprobs\u001b[39;49m\u001b[38;5;124;43m\"\u001b[39;49m\u001b[43m:\u001b[49m\u001b[43m \u001b[49m\u001b[43mtop_logprobs\u001b[49m\u001b[43m,\u001b[49m\n\u001b[0;32m    392\u001b[0m \u001b[43m                \u001b[49m\u001b[38;5;124;43m\"\u001b[39;49m\u001b[38;5;124;43mtop_p\u001b[39;49m\u001b[38;5;124;43m\"\u001b[39;49m\u001b[43m:\u001b[49m\u001b[43m \u001b[49m\u001b[43mtop_p\u001b[49m\u001b[43m,\u001b[49m\n\u001b[0;32m    393\u001b[0m \u001b[43m                \u001b[49m\u001b[38;5;124;43m\"\u001b[39;49m\u001b[38;5;124;43muser\u001b[39;49m\u001b[38;5;124;43m\"\u001b[39;49m\u001b[43m:\u001b[49m\u001b[43m \u001b[49m\u001b[43muser\u001b[49m\u001b[43m,\u001b[49m\n\u001b[0;32m    394\u001b[0m \u001b[43m            \u001b[49m\u001b[43m}\u001b[49m\u001b[43m,\u001b[49m\n\u001b[0;32m    395\u001b[0m \u001b[43m            \u001b[49m\u001b[43mcompletion_create_params\u001b[49m\u001b[38;5;241;43m.\u001b[39;49m\u001b[43mCompletionCreateParams\u001b[49m\u001b[43m,\u001b[49m\n\u001b[0;32m    396\u001b[0m \u001b[43m        \u001b[49m\u001b[43m)\u001b[49m\u001b[43m,\u001b[49m\n\u001b[0;32m    397\u001b[0m \u001b[43m        \u001b[49m\u001b[43moptions\u001b[49m\u001b[38;5;241;43m=\u001b[39;49m\u001b[43mmake_request_options\u001b[49m\u001b[43m(\u001b[49m\n\u001b[0;32m    398\u001b[0m \u001b[43m            \u001b[49m\u001b[43mextra_headers\u001b[49m\u001b[38;5;241;43m=\u001b[39;49m\u001b[43mextra_headers\u001b[49m\u001b[43m,\u001b[49m\u001b[43m \u001b[49m\u001b[43mextra_query\u001b[49m\u001b[38;5;241;43m=\u001b[39;49m\u001b[43mextra_query\u001b[49m\u001b[43m,\u001b[49m\u001b[43m \u001b[49m\u001b[43mextra_body\u001b[49m\u001b[38;5;241;43m=\u001b[39;49m\u001b[43mextra_body\u001b[49m\u001b[43m,\u001b[49m\u001b[43m \u001b[49m\u001b[43mtimeout\u001b[49m\u001b[38;5;241;43m=\u001b[39;49m\u001b[43mtimeout\u001b[49m\n\u001b[0;32m    399\u001b[0m \u001b[43m        \u001b[49m\u001b[43m)\u001b[49m\u001b[43m,\u001b[49m\n\u001b[0;32m    400\u001b[0m \u001b[43m        \u001b[49m\u001b[43mcast_to\u001b[49m\u001b[38;5;241;43m=\u001b[39;49m\u001b[43mChatCompletion\u001b[49m\u001b[43m,\u001b[49m\n\u001b[0;32m    401\u001b[0m \u001b[43m        \u001b[49m\u001b[43mstream\u001b[49m\u001b[38;5;241;43m=\u001b[39;49m\u001b[43mstream\u001b[49m\u001b[43m \u001b[49m\u001b[38;5;129;43;01mor\u001b[39;49;00m\u001b[43m \u001b[49m\u001b[38;5;28;43;01mFalse\u001b[39;49;00m\u001b[43m,\u001b[49m\n\u001b[0;32m    402\u001b[0m \u001b[43m        \u001b[49m\u001b[43mstream_cls\u001b[49m\u001b[38;5;241;43m=\u001b[39;49m\u001b[43mStream\u001b[49m\u001b[43m[\u001b[49m\u001b[43mChatCompletionChunk\u001b[49m\u001b[43m]\u001b[49m\u001b[43m,\u001b[49m\n\u001b[0;32m    403\u001b[0m \u001b[43m    \u001b[49m\u001b[43m)\u001b[49m\n",
      "File \u001b[1;32mc:\\Users\\Sunil\\anaconda3\\envs\\cleanenv\\lib\\site-packages\\groq\\_base_client.py:1222\u001b[0m, in \u001b[0;36mSyncAPIClient.post\u001b[1;34m(self, path, cast_to, body, options, files, stream, stream_cls)\u001b[0m\n\u001b[0;32m   1208\u001b[0m \u001b[38;5;28;01mdef\u001b[39;00m\u001b[38;5;250m \u001b[39m\u001b[38;5;21mpost\u001b[39m(\n\u001b[0;32m   1209\u001b[0m     \u001b[38;5;28mself\u001b[39m,\n\u001b[0;32m   1210\u001b[0m     path: \u001b[38;5;28mstr\u001b[39m,\n\u001b[1;32m   (...)\u001b[0m\n\u001b[0;32m   1217\u001b[0m     stream_cls: \u001b[38;5;28mtype\u001b[39m[_StreamT] \u001b[38;5;241m|\u001b[39m \u001b[38;5;28;01mNone\u001b[39;00m \u001b[38;5;241m=\u001b[39m \u001b[38;5;28;01mNone\u001b[39;00m,\n\u001b[0;32m   1218\u001b[0m ) \u001b[38;5;241m-\u001b[39m\u001b[38;5;241m>\u001b[39m ResponseT \u001b[38;5;241m|\u001b[39m _StreamT:\n\u001b[0;32m   1219\u001b[0m     opts \u001b[38;5;241m=\u001b[39m FinalRequestOptions\u001b[38;5;241m.\u001b[39mconstruct(\n\u001b[0;32m   1220\u001b[0m         method\u001b[38;5;241m=\u001b[39m\u001b[38;5;124m\"\u001b[39m\u001b[38;5;124mpost\u001b[39m\u001b[38;5;124m\"\u001b[39m, url\u001b[38;5;241m=\u001b[39mpath, json_data\u001b[38;5;241m=\u001b[39mbody, files\u001b[38;5;241m=\u001b[39mto_httpx_files(files), \u001b[38;5;241m*\u001b[39m\u001b[38;5;241m*\u001b[39moptions\n\u001b[0;32m   1221\u001b[0m     )\n\u001b[1;32m-> 1222\u001b[0m     \u001b[38;5;28;01mreturn\u001b[39;00m cast(ResponseT, \u001b[38;5;28;43mself\u001b[39;49m\u001b[38;5;241;43m.\u001b[39;49m\u001b[43mrequest\u001b[49m\u001b[43m(\u001b[49m\u001b[43mcast_to\u001b[49m\u001b[43m,\u001b[49m\u001b[43m \u001b[49m\u001b[43mopts\u001b[49m\u001b[43m,\u001b[49m\u001b[43m \u001b[49m\u001b[43mstream\u001b[49m\u001b[38;5;241;43m=\u001b[39;49m\u001b[43mstream\u001b[49m\u001b[43m,\u001b[49m\u001b[43m \u001b[49m\u001b[43mstream_cls\u001b[49m\u001b[38;5;241;43m=\u001b[39;49m\u001b[43mstream_cls\u001b[49m\u001b[43m)\u001b[49m)\n",
      "File \u001b[1;32mc:\\Users\\Sunil\\anaconda3\\envs\\cleanenv\\lib\\site-packages\\groq\\_base_client.py:1031\u001b[0m, in \u001b[0;36mSyncAPIClient.request\u001b[1;34m(self, cast_to, options, stream, stream_cls)\u001b[0m\n\u001b[0;32m   1028\u001b[0m             err\u001b[38;5;241m.\u001b[39mresponse\u001b[38;5;241m.\u001b[39mread()\n\u001b[0;32m   1030\u001b[0m         log\u001b[38;5;241m.\u001b[39mdebug(\u001b[38;5;124m\"\u001b[39m\u001b[38;5;124mRe-raising status error\u001b[39m\u001b[38;5;124m\"\u001b[39m)\n\u001b[1;32m-> 1031\u001b[0m         \u001b[38;5;28;01mraise\u001b[39;00m \u001b[38;5;28mself\u001b[39m\u001b[38;5;241m.\u001b[39m_make_status_error_from_response(err\u001b[38;5;241m.\u001b[39mresponse) \u001b[38;5;28;01mfrom\u001b[39;00m\u001b[38;5;250m \u001b[39m\u001b[38;5;28;01mNone\u001b[39;00m\n\u001b[0;32m   1033\u001b[0m     \u001b[38;5;28;01mbreak\u001b[39;00m\n\u001b[0;32m   1035\u001b[0m \u001b[38;5;28;01massert\u001b[39;00m response \u001b[38;5;129;01mis\u001b[39;00m \u001b[38;5;129;01mnot\u001b[39;00m \u001b[38;5;28;01mNone\u001b[39;00m, \u001b[38;5;124m\"\u001b[39m\u001b[38;5;124mcould not resolve response (should never happen)\u001b[39m\u001b[38;5;124m\"\u001b[39m\n",
      "\u001b[1;31mAuthenticationError\u001b[0m: Error code: 401 - {'error': {'message': 'Invalid API Key', 'type': 'invalid_request_error', 'code': 'invalid_api_key'}}"
     ]
    }
   ],
   "source": [
    "from langchain_core.messages import HumanMessage\n",
    "\n",
    "# SECURITY WARNING: Never commit real API keys to version control!\n",
    "# Replace 'your_api_key_here' with your actual valid Groq API key\n",
    "# Get your API key from: https://console.groq.com/keys\n",
    "valid_groq_api_key = \"your_api_key_here\"\n",
    "\n",
    "# Create a new model instance with valid API key\n",
    "from langchain_groq import ChatGroq\n",
    "\n",
    "# Use environment variable if available, otherwise use the placeholder\n",
    "api_key_to_use = os.getenv(\"GROQ_API_KEY\") or valid_groq_api_key\n",
    "\n",
    "if api_key_to_use == \"your_api_key_here\":\n",
    "    print(\"⚠️ Please set your actual Groq API key before running this cell\")\n",
    "    print(\"Either set GROQ_API_KEY environment variable or replace the placeholder\")\n",
    "else:\n",
    "    model = ChatGroq(model=\"Gemma2-9b-It\", groq_api_key=api_key_to_use)\n",
    "    model.invoke([HumanMessage(content=\"Hi , My name is harsh and I am a  AI Engineer\")])"
   ]
  },
  {
   "cell_type": "code",
   "execution_count": null,
   "metadata": {},
   "outputs": [
    {
     "data": {
      "text/plain": [
       "AIMessage(content=\"You are Krish, and you are a Chief AI Engineer!  \\n\\nIs there anything else you'd like to tell me about yourself or your work?  I'm happy to chat. 😊 \\n\", additional_kwargs={}, response_metadata={'token_usage': {'completion_tokens': 44, 'prompt_tokens': 97, 'total_tokens': 141, 'completion_time': 0.08, 'prompt_time': 0.004297039, 'queue_time': 0.245341121, 'total_time': 0.084297039}, 'model_name': 'Gemma2-9b-It', 'system_fingerprint': 'fp_10c08bf97d', 'finish_reason': 'stop', 'logprobs': None}, id='run--5e3e45cf-e2df-4dbb-b7f3-b35e0b53d45c-0', usage_metadata={'input_tokens': 97, 'output_tokens': 44, 'total_tokens': 141})"
      ]
     },
     "execution_count": 46,
     "metadata": {},
     "output_type": "execute_result"
    }
   ],
   "source": [
    "from langchain_core.messages import AIMessage\n",
    "model.invoke(\n",
    "    [\n",
    "        HumanMessage(content=\"Hi , My name is Krish and I am a Chief AI Engineer\"),\n",
    "        AIMessage(content=\"Hello Krish! It's nice to meet you. \\n\\nAs a Chief AI Engineer, what kind of projects are you working on these days? \\n\\nI'm always eager to learn more about the exciting work being done in the field of AI.\\n\"),\n",
    "        HumanMessage(content=\"Hey What's my name and what do I do?\")\n",
    "    ]\n",
    ")"
   ]
  },
  {
   "cell_type": "markdown",
   "metadata": {},
   "source": [
    "### Message History\n",
    "We can use a Message History class to wrap our model and make it stateful. This will keep track of inputs and outputs of the model, and store them in some datastore. Future interactions will then load those messages and pass them into the chain as part of the input. Let's see how to use this!"
   ]
  },
  {
   "cell_type": "code",
   "execution_count": null,
   "metadata": {},
   "outputs": [
    {
     "name": "stdout",
     "output_type": "stream",
     "text": [
      "Requirement already satisfied: langchain_community in c:\\users\\sunil\\anaconda3\\envs\\cleanenv\\lib\\site-packages (0.3.23)\n",
      "Requirement already satisfied: langchain-core<1.0.0,>=0.3.56 in c:\\users\\sunil\\anaconda3\\envs\\cleanenv\\lib\\site-packages (from langchain_community) (0.3.59)\n",
      "Requirement already satisfied: langchain<1.0.0,>=0.3.24 in c:\\users\\sunil\\anaconda3\\envs\\cleanenv\\lib\\site-packages (from langchain_community) (0.3.25)\n",
      "Requirement already satisfied: SQLAlchemy<3,>=1.4 in c:\\users\\sunil\\anaconda3\\envs\\cleanenv\\lib\\site-packages (from langchain_community) (2.0.40)\n",
      "Requirement already satisfied: requests<3,>=2 in c:\\users\\sunil\\anaconda3\\envs\\cleanenv\\lib\\site-packages (from langchain_community) (2.32.3)\n",
      "Requirement already satisfied: PyYAML>=5.3 in c:\\users\\sunil\\anaconda3\\envs\\cleanenv\\lib\\site-packages (from langchain_community) (6.0.2)\n",
      "Requirement already satisfied: aiohttp<4.0.0,>=3.8.3 in c:\\users\\sunil\\anaconda3\\envs\\cleanenv\\lib\\site-packages (from langchain_community) (3.11.18)\n",
      "Requirement already satisfied: tenacity!=8.4.0,<10,>=8.1.0 in c:\\users\\sunil\\anaconda3\\envs\\cleanenv\\lib\\site-packages (from langchain_community) (8.2.3)\n",
      "Requirement already satisfied: dataclasses-json<0.7,>=0.5.7 in c:\\users\\sunil\\anaconda3\\envs\\cleanenv\\lib\\site-packages (from langchain_community) (0.6.7)\n",
      "Requirement already satisfied: pydantic-settings<3.0.0,>=2.4.0 in c:\\users\\sunil\\anaconda3\\envs\\cleanenv\\lib\\site-packages (from langchain_community) (2.9.1)\n",
      "Requirement already satisfied: langsmith<0.4,>=0.1.125 in c:\\users\\sunil\\anaconda3\\envs\\cleanenv\\lib\\site-packages (from langchain_community) (0.3.42)\n",
      "Requirement already satisfied: httpx-sse<1.0.0,>=0.4.0 in c:\\users\\sunil\\anaconda3\\envs\\cleanenv\\lib\\site-packages (from langchain_community) (0.4.0)\n",
      "Requirement already satisfied: numpy>=1.26.2 in c:\\users\\sunil\\anaconda3\\envs\\cleanenv\\lib\\site-packages (from langchain_community) (2.1.3)\n",
      "Requirement already satisfied: aiohappyeyeballs>=2.3.0 in c:\\users\\sunil\\anaconda3\\envs\\cleanenv\\lib\\site-packages (from aiohttp<4.0.0,>=3.8.3->langchain_community) (2.6.1)\n",
      "Requirement already satisfied: aiosignal>=1.1.2 in c:\\users\\sunil\\anaconda3\\envs\\cleanenv\\lib\\site-packages (from aiohttp<4.0.0,>=3.8.3->langchain_community) (1.3.2)\n",
      "Requirement already satisfied: async-timeout<6.0,>=4.0 in c:\\users\\sunil\\anaconda3\\envs\\cleanenv\\lib\\site-packages (from aiohttp<4.0.0,>=3.8.3->langchain_community) (4.0.3)\n",
      "Requirement already satisfied: attrs>=17.3.0 in c:\\users\\sunil\\anaconda3\\envs\\cleanenv\\lib\\site-packages (from aiohttp<4.0.0,>=3.8.3->langchain_community) (25.3.0)\n",
      "Requirement already satisfied: frozenlist>=1.1.1 in c:\\users\\sunil\\anaconda3\\envs\\cleanenv\\lib\\site-packages (from aiohttp<4.0.0,>=3.8.3->langchain_community) (1.6.0)\n",
      "Requirement already satisfied: multidict<7.0,>=4.5 in c:\\users\\sunil\\anaconda3\\envs\\cleanenv\\lib\\site-packages (from aiohttp<4.0.0,>=3.8.3->langchain_community) (6.4.3)\n",
      "Requirement already satisfied: propcache>=0.2.0 in c:\\users\\sunil\\anaconda3\\envs\\cleanenv\\lib\\site-packages (from aiohttp<4.0.0,>=3.8.3->langchain_community) (0.3.1)\n",
      "Requirement already satisfied: yarl<2.0,>=1.17.0 in c:\\users\\sunil\\anaconda3\\envs\\cleanenv\\lib\\site-packages (from aiohttp<4.0.0,>=3.8.3->langchain_community) (1.20.0)\n",
      "Requirement already satisfied: marshmallow<4.0.0,>=3.18.0 in c:\\users\\sunil\\anaconda3\\envs\\cleanenv\\lib\\site-packages (from dataclasses-json<0.7,>=0.5.7->langchain_community) (3.26.1)\n",
      "Requirement already satisfied: typing-inspect<1,>=0.4.0 in c:\\users\\sunil\\anaconda3\\envs\\cleanenv\\lib\\site-packages (from dataclasses-json<0.7,>=0.5.7->langchain_community) (0.9.0)\n",
      "Requirement already satisfied: langchain-text-splitters<1.0.0,>=0.3.8 in c:\\users\\sunil\\anaconda3\\envs\\cleanenv\\lib\\site-packages (from langchain<1.0.0,>=0.3.24->langchain_community) (0.3.8)\n",
      "Requirement already satisfied: pydantic<3.0.0,>=2.7.4 in c:\\users\\sunil\\anaconda3\\envs\\cleanenv\\lib\\site-packages (from langchain<1.0.0,>=0.3.24->langchain_community) (2.11.4)\n",
      "Requirement already satisfied: jsonpatch<2.0,>=1.33 in c:\\users\\sunil\\anaconda3\\envs\\cleanenv\\lib\\site-packages (from langchain-core<1.0.0,>=0.3.56->langchain_community) (1.33)\n",
      "Requirement already satisfied: packaging<25,>=23.2 in c:\\users\\sunil\\anaconda3\\envs\\cleanenv\\lib\\site-packages (from langchain-core<1.0.0,>=0.3.56->langchain_community) (24.2)\n",
      "Requirement already satisfied: typing-extensions>=4.7 in c:\\users\\sunil\\anaconda3\\envs\\cleanenv\\lib\\site-packages (from langchain-core<1.0.0,>=0.3.56->langchain_community) (4.12.2)\n",
      "Requirement already satisfied: jsonpointer>=1.9 in c:\\users\\sunil\\anaconda3\\envs\\cleanenv\\lib\\site-packages (from jsonpatch<2.0,>=1.33->langchain-core<1.0.0,>=0.3.56->langchain_community) (3.0.0)\n",
      "Requirement already satisfied: httpx<1,>=0.23.0 in c:\\users\\sunil\\anaconda3\\envs\\cleanenv\\lib\\site-packages (from langsmith<0.4,>=0.1.125->langchain_community) (0.28.1)\n",
      "Requirement already satisfied: orjson<4.0.0,>=3.9.14 in c:\\users\\sunil\\anaconda3\\envs\\cleanenv\\lib\\site-packages (from langsmith<0.4,>=0.1.125->langchain_community) (3.10.18)\n",
      "Requirement already satisfied: requests-toolbelt<2.0.0,>=1.0.0 in c:\\users\\sunil\\anaconda3\\envs\\cleanenv\\lib\\site-packages (from langsmith<0.4,>=0.1.125->langchain_community) (1.0.0)\n",
      "Requirement already satisfied: zstandard<0.24.0,>=0.23.0 in c:\\users\\sunil\\anaconda3\\envs\\cleanenv\\lib\\site-packages (from langsmith<0.4,>=0.1.125->langchain_community) (0.23.0)\n",
      "Requirement already satisfied: anyio in c:\\users\\sunil\\anaconda3\\envs\\cleanenv\\lib\\site-packages (from httpx<1,>=0.23.0->langsmith<0.4,>=0.1.125->langchain_community) (4.9.0)\n",
      "Requirement already satisfied: certifi in c:\\users\\sunil\\anaconda3\\envs\\cleanenv\\lib\\site-packages (from httpx<1,>=0.23.0->langsmith<0.4,>=0.1.125->langchain_community) (2025.4.26)\n",
      "Requirement already satisfied: httpcore==1.* in c:\\users\\sunil\\anaconda3\\envs\\cleanenv\\lib\\site-packages (from httpx<1,>=0.23.0->langsmith<0.4,>=0.1.125->langchain_community) (1.0.9)\n",
      "Requirement already satisfied: idna in c:\\users\\sunil\\anaconda3\\envs\\cleanenv\\lib\\site-packages (from httpx<1,>=0.23.0->langsmith<0.4,>=0.1.125->langchain_community) (3.10)\n",
      "Requirement already satisfied: h11>=0.16 in c:\\users\\sunil\\anaconda3\\envs\\cleanenv\\lib\\site-packages (from httpcore==1.*->httpx<1,>=0.23.0->langsmith<0.4,>=0.1.125->langchain_community) (0.16.0)\n",
      "Requirement already satisfied: annotated-types>=0.6.0 in c:\\users\\sunil\\anaconda3\\envs\\cleanenv\\lib\\site-packages (from pydantic<3.0.0,>=2.7.4->langchain<1.0.0,>=0.3.24->langchain_community) (0.7.0)\n",
      "Requirement already satisfied: pydantic-core==2.33.2 in c:\\users\\sunil\\anaconda3\\envs\\cleanenv\\lib\\site-packages (from pydantic<3.0.0,>=2.7.4->langchain<1.0.0,>=0.3.24->langchain_community) (2.33.2)\n",
      "Requirement already satisfied: typing-inspection>=0.4.0 in c:\\users\\sunil\\anaconda3\\envs\\cleanenv\\lib\\site-packages (from pydantic<3.0.0,>=2.7.4->langchain<1.0.0,>=0.3.24->langchain_community) (0.4.0)\n",
      "Requirement already satisfied: python-dotenv>=0.21.0 in c:\\users\\sunil\\anaconda3\\envs\\cleanenv\\lib\\site-packages (from pydantic-settings<3.0.0,>=2.4.0->langchain_community) (1.1.0)\n",
      "Requirement already satisfied: charset-normalizer<4,>=2 in c:\\users\\sunil\\anaconda3\\envs\\cleanenv\\lib\\site-packages (from requests<3,>=2->langchain_community) (3.4.2)\n",
      "Requirement already satisfied: urllib3<3,>=1.21.1 in c:\\users\\sunil\\anaconda3\\envs\\cleanenv\\lib\\site-packages (from requests<3,>=2->langchain_community) (2.4.0)\n",
      "Requirement already satisfied: greenlet>=1 in c:\\users\\sunil\\anaconda3\\envs\\cleanenv\\lib\\site-packages (from SQLAlchemy<3,>=1.4->langchain_community) (3.2.2)\n",
      "Requirement already satisfied: mypy-extensions>=0.3.0 in c:\\users\\sunil\\anaconda3\\envs\\cleanenv\\lib\\site-packages (from typing-inspect<1,>=0.4.0->dataclasses-json<0.7,>=0.5.7->langchain_community) (1.1.0)\n",
      "Requirement already satisfied: exceptiongroup>=1.0.2 in c:\\users\\sunil\\anaconda3\\envs\\cleanenv\\lib\\site-packages (from anyio->httpx<1,>=0.23.0->langsmith<0.4,>=0.1.125->langchain_community) (1.3.0)\n",
      "Requirement already satisfied: sniffio>=1.1 in c:\\users\\sunil\\anaconda3\\envs\\cleanenv\\lib\\site-packages (from anyio->httpx<1,>=0.23.0->langsmith<0.4,>=0.1.125->langchain_community) (1.3.1)\n"
     ]
    }
   ],
   "source": [
    "!pip install langchain_community"
   ]
  },
  {
   "cell_type": "code",
   "execution_count": null,
   "metadata": {},
   "outputs": [],
   "source": [
    "from langchain_community.chat_message_histories import ChatMessageHistory\n",
    "from langchain_core.chat_history import BaseChatMessageHistory\n",
    "from langchain_core.runnables.history import RunnableWithMessageHistory\n",
    "\n",
    "store={}\n",
    "\n",
    "def get_session_history(session_id:str)->BaseChatMessageHistory:\n",
    "    if session_id not in store:\n",
    "        store[session_id]=ChatMessageHistory()\n",
    "    return store[session_id]\n",
    "\n",
    "with_message_history=RunnableWithMessageHistory(model,get_session_history)"
   ]
  },
  {
   "cell_type": "code",
   "execution_count": null,
   "metadata": {},
   "outputs": [],
   "source": [
    "config={\"configurable\":{\"session_id\":\"chat1\"}}"
   ]
  },
  {
   "cell_type": "code",
   "execution_count": null,
   "metadata": {},
   "outputs": [],
   "source": [
    "response=with_message_history.invoke(\n",
    "    [HumanMessage(content=\"Hi , My name is harsh and I am a Chief AI Engineer\")],\n",
    "    config=config\n",
    ")"
   ]
  },
  {
   "cell_type": "code",
   "execution_count": null,
   "metadata": {},
   "outputs": [
    {
     "data": {
      "text/plain": [
       "\"Hello Harsh, it's nice to meet you!  \\n\\nBeing a Chief AI Engineer is a fascinating role. What kind of projects are you currently working on?  \\n\\nI'm eager to learn more about your work in the field of AI.\\n\""
      ]
     },
     "execution_count": 51,
     "metadata": {},
     "output_type": "execute_result"
    }
   ],
   "source": [
    "response.content"
   ]
  },
  {
   "cell_type": "code",
   "execution_count": null,
   "metadata": {},
   "outputs": [
    {
     "data": {
      "text/plain": [
       "AIMessage(content='Your name is Harsh, as you told me at the beginning of our conversation. 😊 \\n\\nIs there anything else I can help you with today?\\n', additional_kwargs={}, response_metadata={'token_usage': {'completion_tokens': 33, 'prompt_tokens': 90, 'total_tokens': 123, 'completion_time': 0.06, 'prompt_time': 0.004084459, 'queue_time': 0.24234257799999998, 'total_time': 0.064084459}, 'model_name': 'Gemma2-9b-It', 'system_fingerprint': 'fp_10c08bf97d', 'finish_reason': 'stop', 'logprobs': None}, id='run--9471c2c6-6a37-4308-8983-6c0a6261b8d3-0', usage_metadata={'input_tokens': 90, 'output_tokens': 33, 'total_tokens': 123})"
      ]
     },
     "execution_count": 52,
     "metadata": {},
     "output_type": "execute_result"
    }
   ],
   "source": [
    "with_message_history.invoke(\n",
    "    [HumanMessage(content=\"What's my name?\")],\n",
    "    config=config,\n",
    ")"
   ]
  },
  {
   "cell_type": "code",
   "execution_count": null,
   "metadata": {},
   "outputs": [
    {
     "data": {
      "text/plain": [
       "\"As an AI, I have no memory of past conversations and do not know your name. If you'd like to tell me your name, I'd be happy to use it! 😊\\n\""
      ]
     },
     "execution_count": 53,
     "metadata": {},
     "output_type": "execute_result"
    }
   ],
   "source": [
    "## change the config-->session id\n",
    "config1={\"configurable\":{\"session_id\":\"chat2\"}}\n",
    "response=with_message_history.invoke(\n",
    "    [HumanMessage(content=\"Whats my name\")],\n",
    "    config=config1\n",
    ")\n",
    "response.content"
   ]
  },
  {
   "cell_type": "code",
   "execution_count": null,
   "metadata": {},
   "outputs": [
    {
     "data": {
      "text/plain": [
       "\"Hi John! 👋 \\n\\nIt's nice to meet you.  \\n\\nIs there anything I can help you with today?  😄  \\n\\n\""
      ]
     },
     "execution_count": 54,
     "metadata": {},
     "output_type": "execute_result"
    }
   ],
   "source": [
    "response=with_message_history.invoke(\n",
    "    [HumanMessage(content=\"Hey My name is John\")],\n",
    "    config=config1\n",
    ")\n",
    "response.content"
   ]
  },
  {
   "cell_type": "code",
   "execution_count": null,
   "metadata": {},
   "outputs": [
    {
     "data": {
      "text/plain": [
       "'Your name is John!  😊  \\n\\nI remember that you told me earlier.  \\n\\nIs there anything else I can help you with?\\n'"
      ]
     },
     "execution_count": 55,
     "metadata": {},
     "output_type": "execute_result"
    }
   ],
   "source": [
    "response=with_message_history.invoke(\n",
    "    [HumanMessage(content=\"Whats my name\")],\n",
    "    config=config1\n",
    ")\n",
    "response.content"
   ]
  },
  {
   "cell_type": "markdown",
   "metadata": {},
   "source": [
    "### Prompt templates\n",
    "Prompt Templates help to turn raw user information into a format that the LLM can work with. In this case, the raw user input is just a message, which we are passing to the LLM. Let's now make that a bit more complicated. First, let's add in a system message with some custom instructions (but still taking messages as input). Next, we'll add in more input besides just the messages."
   ]
  },
  {
   "cell_type": "code",
   "execution_count": null,
   "metadata": {},
   "outputs": [],
   "source": [
    "from langchain_core.prompts import ChatPromptTemplate,MessagesPlaceholder\n",
    "prompt=ChatPromptTemplate.from_messages(\n",
    "    [\n",
    "        (\"system\",\"You are a helpful assistant.Amnswer all the question to the nest of your ability\"),\n",
    "        MessagesPlaceholder(variable_name=\"messages\")\n",
    "    ]\n",
    ")\n",
    "\n",
    "chain=prompt|model"
   ]
  },
  {
   "cell_type": "code",
   "execution_count": null,
   "metadata": {},
   "outputs": [
    {
     "data": {
      "text/plain": [
       "AIMessage(content=\"Hi Harsh! \\n\\nIt's nice to meet you.  \\n\\nHow can I help you today? 😊  \\n\\nAsk me anything! \\n\\n\", additional_kwargs={}, response_metadata={'token_usage': {'completion_tokens': 34, 'prompt_tokens': 31, 'total_tokens': 65, 'completion_time': 0.061818182, 'prompt_time': 0.002369444, 'queue_time': 0.245222303, 'total_time': 0.064187626}, 'model_name': 'Gemma2-9b-It', 'system_fingerprint': 'fp_10c08bf97d', 'finish_reason': 'stop', 'logprobs': None}, id='run--933ae839-f6f0-464f-80ad-b422001fe984-0', usage_metadata={'input_tokens': 31, 'output_tokens': 34, 'total_tokens': 65})"
      ]
     },
     "execution_count": 57,
     "metadata": {},
     "output_type": "execute_result"
    }
   ],
   "source": [
    "chain.invoke({\"messages\":[HumanMessage(content=\"Hi My name is harsh\")]})"
   ]
  },
  {
   "cell_type": "code",
   "execution_count": null,
   "metadata": {},
   "outputs": [],
   "source": [
    "with_message_history=RunnableWithMessageHistory(chain,get_session_history)"
   ]
  },
  {
   "cell_type": "code",
   "execution_count": null,
   "metadata": {},
   "outputs": [
    {
     "data": {
      "text/plain": [
       "AIMessage(content=\"Hi Harsh, it's nice to meet you! 👋\\n\\nI'm happy to help answer any questions you have. Just ask away! 😊  What can I do for you today? \\n\", additional_kwargs={}, response_metadata={'token_usage': {'completion_tokens': 43, 'prompt_tokens': 31, 'total_tokens': 74, 'completion_time': 0.078181818, 'prompt_time': 0.002351704, 'queue_time': 0.245762026, 'total_time': 0.080533522}, 'model_name': 'Gemma2-9b-It', 'system_fingerprint': 'fp_10c08bf97d', 'finish_reason': 'stop', 'logprobs': None}, id='run--bf385be7-c69a-474a-aaca-1b8db70cbe45-0', usage_metadata={'input_tokens': 31, 'output_tokens': 43, 'total_tokens': 74})"
      ]
     },
     "execution_count": 59,
     "metadata": {},
     "output_type": "execute_result"
    }
   ],
   "source": [
    "config = {\"configurable\": {\"session_id\": \"chat3\"}}\n",
    "response=with_message_history.invoke(\n",
    "    [HumanMessage(content=\"Hi My name is harsh\")],\n",
    "    config=config\n",
    ")\n",
    "\n",
    "response"
   ]
  },
  {
   "cell_type": "code",
   "execution_count": null,
   "metadata": {},
   "outputs": [
    {
     "data": {
      "text/plain": [
       "'Your name is Harsh!  I remember that from when you introduced yourself. 😊  \\n\\nIs there anything else I can help you with?\\n'"
      ]
     },
     "execution_count": 60,
     "metadata": {},
     "output_type": "execute_result"
    }
   ],
   "source": [
    "response = with_message_history.invoke(\n",
    "    [HumanMessage(content=\"What's my name?\")],\n",
    "    config=config,\n",
    ")\n",
    "\n",
    "response.content"
   ]
  },
  {
   "cell_type": "code",
   "execution_count": null,
   "metadata": {},
   "outputs": [],
   "source": [
    "## Add more complexity\n",
    "\n",
    "prompt = ChatPromptTemplate.from_messages(\n",
    "    [\n",
    "        (\n",
    "            \"system\",\n",
    "            \"You are a helpful assistant. Answer all questions to the best of your ability in {language}.\",\n",
    "        ),\n",
    "        MessagesPlaceholder(variable_name=\"messages\"),\n",
    "    ]\n",
    ")\n",
    "\n",
    "chain = prompt | model"
   ]
  },
  {
   "cell_type": "code",
   "execution_count": null,
   "metadata": {},
   "outputs": [
    {
     "data": {
      "text/plain": [
       "'नमस्ते हर,  मैं आपकी मदद करने के लिए यहाँ हूँ। आप किस बारे में पूछना चाहते हैं? \\n'"
      ]
     },
     "execution_count": 62,
     "metadata": {},
     "output_type": "execute_result"
    }
   ],
   "source": [
    "response=chain.invoke({\"messages\":[HumanMessage(content=\"Hi My name is har\")],\"language\":\"Hindi\"})\n",
    "response.content"
   ]
  },
  {
   "cell_type": "markdown",
   "metadata": {},
   "source": [
    "Let's now wrap this more complicated chain in a Message History class. This time, because there are multiple keys in the input, we need to specify the correct key to use to save the chat history."
   ]
  },
  {
   "cell_type": "code",
   "execution_count": null,
   "metadata": {},
   "outputs": [],
   "source": [
    "with_message_history=RunnableWithMessageHistory(\n",
    "    chain,\n",
    "    get_session_history,\n",
    "    input_messages_key=\"messages\"\n",
    ")"
   ]
  },
  {
   "cell_type": "code",
   "execution_count": null,
   "metadata": {},
   "outputs": [
    {
     "data": {
      "text/plain": [
       "'नमस्ते कृष्ण! 😊 \\n\\nमुझे ख़ुशी है कि आप मुझसे बात करना चाहते हैं।  आप किस बारे में जानना चाहते हैं?  \\n\\nमैं आपकी मदद करने के लिए तैयार हूँ!\\n\\n'"
      ]
     },
     "execution_count": 64,
     "metadata": {},
     "output_type": "execute_result"
    }
   ],
   "source": [
    "config = {\"configurable\": {\"session_id\": \"chat4\"}}\n",
    "repsonse=with_message_history.invoke(\n",
    "    {'messages': [HumanMessage(content=\"Hi,I am Krish\")],\"language\":\"Hindi\"},\n",
    "    config=config\n",
    ")\n",
    "repsonse.content"
   ]
  },
  {
   "cell_type": "code",
   "execution_count": null,
   "metadata": {},
   "outputs": [],
   "source": [
    "response = with_message_history.invoke(\n",
    "    {\"messages\": [HumanMessage(content=\"whats my name?\")], \"language\": \"Hindi\"},\n",
    "    config=config,\n",
    ")"
   ]
  },
  {
   "cell_type": "code",
   "execution_count": null,
   "metadata": {},
   "outputs": [
    {
     "data": {
      "text/plain": [
       "'आपका नाम कृष्ण है। 😊 \\n'"
      ]
     },
     "execution_count": 66,
     "metadata": {},
     "output_type": "execute_result"
    }
   ],
   "source": [
    "response.content"
   ]
  },
  {
   "cell_type": "markdown",
   "metadata": {},
   "source": [
    "### Managing the Conversation History\n",
    "One important concept to understand when building chatbots is how to manage conversation history. If left unmanaged, the list of messages will grow unbounded and potentially overflow the context window of the LLM. Therefore, it is important to add a step that limits the size of the messages you are passing in.\n",
    "'trim_messages' helper to reduce how many messages we're sending to the model. The trimmer allows us to specify how many tokens we want to keep, along with other parameters like if we want to always keep the system message and whether to allow partial messages"
   ]
  },
  {
   "cell_type": "code",
   "execution_count": null,
   "metadata": {},
   "outputs": [
    {
     "data": {
      "text/plain": [
       "[SystemMessage(content=\"you're a good assistant\", additional_kwargs={}, response_metadata={}),\n",
       " HumanMessage(content='I like vanilla ice cream', additional_kwargs={}, response_metadata={}),\n",
       " AIMessage(content='nice', additional_kwargs={}, response_metadata={}),\n",
       " HumanMessage(content='whats 2 + 2', additional_kwargs={}, response_metadata={}),\n",
       " AIMessage(content='4', additional_kwargs={}, response_metadata={}),\n",
       " HumanMessage(content='thanks', additional_kwargs={}, response_metadata={}),\n",
       " AIMessage(content='no problem!', additional_kwargs={}, response_metadata={}),\n",
       " HumanMessage(content='having fun?', additional_kwargs={}, response_metadata={}),\n",
       " AIMessage(content='yes!', additional_kwargs={}, response_metadata={})]"
      ]
     },
     "execution_count": 67,
     "metadata": {},
     "output_type": "execute_result"
    }
   ],
   "source": [
    "from langchain_core.messages import SystemMessage,trim_messages\n",
    "trimmer=trim_messages(\n",
    "    max_tokens=45,\n",
    "    strategy=\"last\",\n",
    "    token_counter=model,\n",
    "    include_system=True,\n",
    "    allow_partial=False,\n",
    "    start_on=\"human\"\n",
    ")\n",
    "messages = [\n",
    "    SystemMessage(content=\"you're a good assistant\"),\n",
    "    HumanMessage(content=\"hi! I'm bob\"),\n",
    "    AIMessage(content=\"hi!\"),\n",
    "    HumanMessage(content=\"I like vanilla ice cream\"),\n",
    "    AIMessage(content=\"nice\"),\n",
    "    HumanMessage(content=\"whats 2 + 2\"),\n",
    "    AIMessage(content=\"4\"),\n",
    "    HumanMessage(content=\"thanks\"),\n",
    "    AIMessage(content=\"no problem!\"),\n",
    "    HumanMessage(content=\"having fun?\"),\n",
    "    AIMessage(content=\"yes!\"),\n",
    "]\n",
    "trimmer.invoke(messages)"
   ]
  },
  {
   "cell_type": "code",
   "execution_count": null,
   "metadata": {},
   "outputs": [
    {
     "data": {
      "text/plain": [
       "\"As an AI, I don't have access to your personal information, including your favorite ice cream flavor. \\n\\nWhat's your favorite ice cream? 😊🍦\\n\""
      ]
     },
     "execution_count": 68,
     "metadata": {},
     "output_type": "execute_result"
    }
   ],
   "source": [
    "from operator import itemgetter\n",
    "\n",
    "from langchain_core.runnables import RunnablePassthrough\n",
    "\n",
    "chain=(\n",
    "    RunnablePassthrough.assign(messages=itemgetter(\"messages\")|trimmer)\n",
    "    | prompt\n",
    "    | model\n",
    "    \n",
    ")\n",
    "\n",
    "response=chain.invoke(\n",
    "    {\n",
    "    \"messages\":messages + [HumanMessage(content=\"What ice cream do i like\")],\n",
    "    \"language\":\"English\"\n",
    "    }\n",
    ")\n",
    "response.content"
   ]
  },
  {
   "cell_type": "code",
   "execution_count": null,
   "metadata": {},
   "outputs": [
    {
     "data": {
      "text/plain": [
       "\"You asked what 2 + 2 equals.  😊  \\n\\n\\n\\nIs there another one you'd like to try?\\n\""
      ]
     },
     "execution_count": 69,
     "metadata": {},
     "output_type": "execute_result"
    }
   ],
   "source": [
    "response = chain.invoke(\n",
    "    {\n",
    "        \"messages\": messages + [HumanMessage(content=\"what math problem did i ask\")],\n",
    "        \"language\": \"English\",\n",
    "    }\n",
    ")\n",
    "response.content"
   ]
  },
  {
   "cell_type": "code",
   "execution_count": null,
   "metadata": {},
   "outputs": [],
   "source": [
    "## Lets wrap this in the MEssage History\n",
    "with_message_history = RunnableWithMessageHistory(\n",
    "    chain,\n",
    "    get_session_history,\n",
    "    input_messages_key=\"messages\",\n",
    ")\n",
    "config={\"configurable\":{\"session_id\":\"chat5\"}}"
   ]
  },
  {
   "cell_type": "code",
   "execution_count": null,
   "metadata": {},
   "outputs": [
    {
     "data": {
      "text/plain": [
       "\"As a large language model, I don't have access to past conversations or any personal information about you, including your name.\\n\\nIf you'd like to tell me your name, I'd be happy to know! 😊  \\n\\n\""
      ]
     },
     "execution_count": 71,
     "metadata": {},
     "output_type": "execute_result"
    }
   ],
   "source": [
    "response = with_message_history.invoke(\n",
    "    {\n",
    "        \"messages\": messages + [HumanMessage(content=\"whats my name?\")],\n",
    "        \"language\": \"English\",\n",
    "    },\n",
    "    config=config,\n",
    ")\n",
    "\n",
    "response.content"
   ]
  },
  {
   "cell_type": "code",
   "execution_count": null,
   "metadata": {},
   "outputs": [
    {
     "data": {
      "text/plain": [
       "\"As a helpful assistant, I have no memory of past conversations. Every interaction we have is fresh and new.\\n\\nIf you'd like to ask me a math problem, I'm happy to help! 😊  Just let me know what you need.  \\n\\n\""
      ]
     },
     "execution_count": 72,
     "metadata": {},
     "output_type": "execute_result"
    }
   ],
   "source": [
    "response = with_message_history.invoke(\n",
    "    {\n",
    "        \"messages\": [HumanMessage(content=\"what math problem did i ask?\")],\n",
    "        \"language\": \"English\",\n",
    "    },\n",
    "    config=config,\n",
    ")\n",
    "\n",
    "response.content"
   ]
  },
  {
   "cell_type": "markdown",
   "metadata": {},
   "source": [
    "## Deploying Your Chatbot Online\n",
    "\n",
    "Now that we have a working chatbot, let's explore different ways to deploy it online so others can use it:\n",
    "\n",
    "### Deployment Options:\n",
    "1. **Streamlit** - Quick web app deployment\n",
    "2. **Flask/FastAPI** - RESTful API service\n",
    "3. **Gradio** - ML model interface\n",
    "\n",
    "### Hosting Platforms:\n",
    "- **Streamlit Cloud** (Free)\n",
    "- **Heroku** (Free tier available)\n",
    "- **Railway** (Free tier available)\n",
    "- **Render** (Free tier available)\n",
    "- **Vercel** (Free for hobby projects)\n",
    "\n",
    "Let's start with the easiest option - Streamlit!"
   ]
  },
  {
   "cell_type": "markdown",
   "metadata": {},
   "source": [
    "### Option 1: Streamlit Web App\n",
    "\n",
    "Streamlit is the easiest way to create a web interface for your chatbot. First, let's install streamlit:"
   ]
  },
  {
   "cell_type": "code",
   "execution_count": null,
   "metadata": {},
   "outputs": [
    {
     "name": "stdout",
     "output_type": "stream",
     "text": [
      "Requirement already satisfied: streamlit in c:\\users\\sunil\\anaconda3\\envs\\cleanenv\\lib\\site-packages (1.45.0)\n",
      "Requirement already satisfied: altair<6,>=4.0 in c:\\users\\sunil\\anaconda3\\envs\\cleanenv\\lib\\site-packages (from streamlit) (5.5.0)\n",
      "Requirement already satisfied: blinker<2,>=1.5.0 in c:\\users\\sunil\\anaconda3\\envs\\cleanenv\\lib\\site-packages (from streamlit) (1.9.0)\n",
      "Requirement already satisfied: cachetools<6,>=4.0 in c:\\users\\sunil\\anaconda3\\envs\\cleanenv\\lib\\site-packages (from streamlit) (5.5.2)\n",
      "Requirement already satisfied: click<9,>=7.0 in c:\\users\\sunil\\anaconda3\\envs\\cleanenv\\lib\\site-packages (from streamlit) (8.1.8)\n",
      "Requirement already satisfied: numpy<3,>=1.23 in c:\\users\\sunil\\anaconda3\\envs\\cleanenv\\lib\\site-packages (from streamlit) (2.1.3)\n",
      "Requirement already satisfied: packaging<25,>=20 in c:\\users\\sunil\\anaconda3\\envs\\cleanenv\\lib\\site-packages (from streamlit) (24.2)\n",
      "Requirement already satisfied: pandas<3,>=1.4.0 in c:\\users\\sunil\\anaconda3\\envs\\cleanenv\\lib\\site-packages (from streamlit) (2.2.3)\n",
      "Requirement already satisfied: pillow<12,>=7.1.0 in c:\\users\\sunil\\anaconda3\\envs\\cleanenv\\lib\\site-packages (from streamlit) (11.1.0)\n",
      "Requirement already satisfied: protobuf<7,>=3.20 in c:\\users\\sunil\\anaconda3\\envs\\cleanenv\\lib\\site-packages (from streamlit) (5.29.5)\n",
      "Requirement already satisfied: pyarrow>=7.0 in c:\\users\\sunil\\anaconda3\\envs\\cleanenv\\lib\\site-packages (from streamlit) (20.0.0)\n",
      "Requirement already satisfied: requests<3,>=2.27 in c:\\users\\sunil\\anaconda3\\envs\\cleanenv\\lib\\site-packages (from streamlit) (2.32.3)\n",
      "Requirement already satisfied: tenacity<10,>=8.1.0 in c:\\users\\sunil\\anaconda3\\envs\\cleanenv\\lib\\site-packages (from streamlit) (8.2.3)\n",
      "Requirement already satisfied: toml<2,>=0.10.1 in c:\\users\\sunil\\anaconda3\\envs\\cleanenv\\lib\\site-packages (from streamlit) (0.10.2)\n",
      "Requirement already satisfied: typing-extensions<5,>=4.4.0 in c:\\users\\sunil\\anaconda3\\envs\\cleanenv\\lib\\site-packages (from streamlit) (4.12.2)\n",
      "Requirement already satisfied: watchdog<7,>=2.1.5 in c:\\users\\sunil\\anaconda3\\envs\\cleanenv\\lib\\site-packages (from streamlit) (6.0.0)\n",
      "Requirement already satisfied: gitpython!=3.1.19,<4,>=3.0.7 in c:\\users\\sunil\\anaconda3\\envs\\cleanenv\\lib\\site-packages (from streamlit) (3.1.44)\n",
      "Requirement already satisfied: pydeck<1,>=0.8.0b4 in c:\\users\\sunil\\anaconda3\\envs\\cleanenv\\lib\\site-packages (from streamlit) (0.9.1)\n",
      "Requirement already satisfied: tornado<7,>=6.0.3 in c:\\users\\sunil\\anaconda3\\envs\\cleanenv\\lib\\site-packages (from streamlit) (6.4.2)\n",
      "Requirement already satisfied: jinja2 in c:\\users\\sunil\\anaconda3\\envs\\cleanenv\\lib\\site-packages (from altair<6,>=4.0->streamlit) (3.1.6)\n",
      "Requirement already satisfied: jsonschema>=3.0 in c:\\users\\sunil\\anaconda3\\envs\\cleanenv\\lib\\site-packages (from altair<6,>=4.0->streamlit) (4.23.0)\n",
      "Requirement already satisfied: narwhals>=1.14.2 in c:\\users\\sunil\\anaconda3\\envs\\cleanenv\\lib\\site-packages (from altair<6,>=4.0->streamlit) (1.38.2)\n",
      "Requirement already satisfied: colorama in c:\\users\\sunil\\anaconda3\\envs\\cleanenv\\lib\\site-packages (from click<9,>=7.0->streamlit) (0.4.6)\n",
      "Requirement already satisfied: gitdb<5,>=4.0.1 in c:\\users\\sunil\\anaconda3\\envs\\cleanenv\\lib\\site-packages (from gitpython!=3.1.19,<4,>=3.0.7->streamlit) (4.0.12)\n",
      "Requirement already satisfied: smmap<6,>=3.0.1 in c:\\users\\sunil\\anaconda3\\envs\\cleanenv\\lib\\site-packages (from gitdb<5,>=4.0.1->gitpython!=3.1.19,<4,>=3.0.7->streamlit) (5.0.2)\n",
      "Requirement already satisfied: python-dateutil>=2.8.2 in c:\\users\\sunil\\anaconda3\\envs\\cleanenv\\lib\\site-packages (from pandas<3,>=1.4.0->streamlit) (2.9.0.post0)\n",
      "Requirement already satisfied: pytz>=2020.1 in c:\\users\\sunil\\anaconda3\\envs\\cleanenv\\lib\\site-packages (from pandas<3,>=1.4.0->streamlit) (2024.1)\n",
      "Requirement already satisfied: tzdata>=2022.7 in c:\\users\\sunil\\anaconda3\\envs\\cleanenv\\lib\\site-packages (from pandas<3,>=1.4.0->streamlit) (2025.2)\n",
      "Requirement already satisfied: charset-normalizer<4,>=2 in c:\\users\\sunil\\anaconda3\\envs\\cleanenv\\lib\\site-packages (from requests<3,>=2.27->streamlit) (3.4.2)\n",
      "Requirement already satisfied: idna<4,>=2.5 in c:\\users\\sunil\\anaconda3\\envs\\cleanenv\\lib\\site-packages (from requests<3,>=2.27->streamlit) (3.10)\n",
      "Requirement already satisfied: urllib3<3,>=1.21.1 in c:\\users\\sunil\\anaconda3\\envs\\cleanenv\\lib\\site-packages (from requests<3,>=2.27->streamlit) (2.4.0)\n",
      "Requirement already satisfied: certifi>=2017.4.17 in c:\\users\\sunil\\anaconda3\\envs\\cleanenv\\lib\\site-packages (from requests<3,>=2.27->streamlit) (2025.4.26)\n",
      "Requirement already satisfied: MarkupSafe>=2.0 in c:\\users\\sunil\\anaconda3\\envs\\cleanenv\\lib\\site-packages (from jinja2->altair<6,>=4.0->streamlit) (3.0.2)\n",
      "Requirement already satisfied: attrs>=22.2.0 in c:\\users\\sunil\\anaconda3\\envs\\cleanenv\\lib\\site-packages (from jsonschema>=3.0->altair<6,>=4.0->streamlit) (25.3.0)\n",
      "Requirement already satisfied: jsonschema-specifications>=2023.03.6 in c:\\users\\sunil\\anaconda3\\envs\\cleanenv\\lib\\site-packages (from jsonschema>=3.0->altair<6,>=4.0->streamlit) (2025.4.1)\n",
      "Requirement already satisfied: referencing>=0.28.4 in c:\\users\\sunil\\anaconda3\\envs\\cleanenv\\lib\\site-packages (from jsonschema>=3.0->altair<6,>=4.0->streamlit) (0.36.2)\n",
      "Requirement already satisfied: rpds-py>=0.7.1 in c:\\users\\sunil\\anaconda3\\envs\\cleanenv\\lib\\site-packages (from jsonschema>=3.0->altair<6,>=4.0->streamlit) (0.24.0)\n",
      "Requirement already satisfied: six>=1.5 in c:\\users\\sunil\\anaconda3\\envs\\cleanenv\\lib\\site-packages (from python-dateutil>=2.8.2->pandas<3,>=1.4.0->streamlit) (1.17.0)\n",
      "\n",
      "Requirement already satisfied: altair<6,>=4.0 in c:\\users\\sunil\\anaconda3\\envs\\cleanenv\\lib\\site-packages (from streamlit) (5.5.0)\n",
      "Requirement already satisfied: blinker<2,>=1.5.0 in c:\\users\\sunil\\anaconda3\\envs\\cleanenv\\lib\\site-packages (from streamlit) (1.9.0)\n",
      "Requirement already satisfied: cachetools<6,>=4.0 in c:\\users\\sunil\\anaconda3\\envs\\cleanenv\\lib\\site-packages (from streamlit) (5.5.2)\n",
      "Requirement already satisfied: click<9,>=7.0 in c:\\users\\sunil\\anaconda3\\envs\\cleanenv\\lib\\site-packages (from streamlit) (8.1.8)\n",
      "Requirement already satisfied: numpy<3,>=1.23 in c:\\users\\sunil\\anaconda3\\envs\\cleanenv\\lib\\site-packages (from streamlit) (2.1.3)\n",
      "Requirement already satisfied: packaging<25,>=20 in c:\\users\\sunil\\anaconda3\\envs\\cleanenv\\lib\\site-packages (from streamlit) (24.2)\n",
      "Requirement already satisfied: pandas<3,>=1.4.0 in c:\\users\\sunil\\anaconda3\\envs\\cleanenv\\lib\\site-packages (from streamlit) (2.2.3)\n",
      "Requirement already satisfied: pillow<12,>=7.1.0 in c:\\users\\sunil\\anaconda3\\envs\\cleanenv\\lib\\site-packages (from streamlit) (11.1.0)\n",
      "Requirement already satisfied: protobuf<7,>=3.20 in c:\\users\\sunil\\anaconda3\\envs\\cleanenv\\lib\\site-packages (from streamlit) (5.29.5)\n",
      "Requirement already satisfied: pyarrow>=7.0 in c:\\users\\sunil\\anaconda3\\envs\\cleanenv\\lib\\site-packages (from streamlit) (20.0.0)\n",
      "Requirement already satisfied: requests<3,>=2.27 in c:\\users\\sunil\\anaconda3\\envs\\cleanenv\\lib\\site-packages (from streamlit) (2.32.3)\n",
      "Requirement already satisfied: tenacity<10,>=8.1.0 in c:\\users\\sunil\\anaconda3\\envs\\cleanenv\\lib\\site-packages (from streamlit) (8.2.3)\n",
      "Requirement already satisfied: toml<2,>=0.10.1 in c:\\users\\sunil\\anaconda3\\envs\\cleanenv\\lib\\site-packages (from streamlit) (0.10.2)\n",
      "Requirement already satisfied: typing-extensions<5,>=4.4.0 in c:\\users\\sunil\\anaconda3\\envs\\cleanenv\\lib\\site-packages (from streamlit) (4.12.2)\n",
      "Requirement already satisfied: watchdog<7,>=2.1.5 in c:\\users\\sunil\\anaconda3\\envs\\cleanenv\\lib\\site-packages (from streamlit) (6.0.0)\n",
      "Requirement already satisfied: gitpython!=3.1.19,<4,>=3.0.7 in c:\\users\\sunil\\anaconda3\\envs\\cleanenv\\lib\\site-packages (from streamlit) (3.1.44)\n",
      "Requirement already satisfied: pydeck<1,>=0.8.0b4 in c:\\users\\sunil\\anaconda3\\envs\\cleanenv\\lib\\site-packages (from streamlit) (0.9.1)\n",
      "Requirement already satisfied: tornado<7,>=6.0.3 in c:\\users\\sunil\\anaconda3\\envs\\cleanenv\\lib\\site-packages (from streamlit) (6.4.2)\n",
      "Requirement already satisfied: jinja2 in c:\\users\\sunil\\anaconda3\\envs\\cleanenv\\lib\\site-packages (from altair<6,>=4.0->streamlit) (3.1.6)\n",
      "Requirement already satisfied: jsonschema>=3.0 in c:\\users\\sunil\\anaconda3\\envs\\cleanenv\\lib\\site-packages (from altair<6,>=4.0->streamlit) (4.23.0)\n",
      "Requirement already satisfied: narwhals>=1.14.2 in c:\\users\\sunil\\anaconda3\\envs\\cleanenv\\lib\\site-packages (from altair<6,>=4.0->streamlit) (1.38.2)\n",
      "Requirement already satisfied: colorama in c:\\users\\sunil\\anaconda3\\envs\\cleanenv\\lib\\site-packages (from click<9,>=7.0->streamlit) (0.4.6)\n",
      "Requirement already satisfied: gitdb<5,>=4.0.1 in c:\\users\\sunil\\anaconda3\\envs\\cleanenv\\lib\\site-packages (from gitpython!=3.1.19,<4,>=3.0.7->streamlit) (4.0.12)\n",
      "Requirement already satisfied: smmap<6,>=3.0.1 in c:\\users\\sunil\\anaconda3\\envs\\cleanenv\\lib\\site-packages (from gitdb<5,>=4.0.1->gitpython!=3.1.19,<4,>=3.0.7->streamlit) (5.0.2)\n",
      "Requirement already satisfied: python-dateutil>=2.8.2 in c:\\users\\sunil\\anaconda3\\envs\\cleanenv\\lib\\site-packages (from pandas<3,>=1.4.0->streamlit) (2.9.0.post0)\n",
      "Requirement already satisfied: pytz>=2020.1 in c:\\users\\sunil\\anaconda3\\envs\\cleanenv\\lib\\site-packages (from pandas<3,>=1.4.0->streamlit) (2024.1)\n",
      "Requirement already satisfied: tzdata>=2022.7 in c:\\users\\sunil\\anaconda3\\envs\\cleanenv\\lib\\site-packages (from pandas<3,>=1.4.0->streamlit) (2025.2)\n",
      "Requirement already satisfied: charset-normalizer<4,>=2 in c:\\users\\sunil\\anaconda3\\envs\\cleanenv\\lib\\site-packages (from requests<3,>=2.27->streamlit) (3.4.2)\n",
      "Requirement already satisfied: idna<4,>=2.5 in c:\\users\\sunil\\anaconda3\\envs\\cleanenv\\lib\\site-packages (from requests<3,>=2.27->streamlit) (3.10)\n",
      "Requirement already satisfied: urllib3<3,>=1.21.1 in c:\\users\\sunil\\anaconda3\\envs\\cleanenv\\lib\\site-packages (from requests<3,>=2.27->streamlit) (2.4.0)\n",
      "Requirement already satisfied: certifi>=2017.4.17 in c:\\users\\sunil\\anaconda3\\envs\\cleanenv\\lib\\site-packages (from requests<3,>=2.27->streamlit) (2025.4.26)\n",
      "Requirement already satisfied: MarkupSafe>=2.0 in c:\\users\\sunil\\anaconda3\\envs\\cleanenv\\lib\\site-packages (from jinja2->altair<6,>=4.0->streamlit) (3.0.2)\n",
      "Requirement already satisfied: attrs>=22.2.0 in c:\\users\\sunil\\anaconda3\\envs\\cleanenv\\lib\\site-packages (from jsonschema>=3.0->altair<6,>=4.0->streamlit) (25.3.0)\n",
      "Requirement already satisfied: jsonschema-specifications>=2023.03.6 in c:\\users\\sunil\\anaconda3\\envs\\cleanenv\\lib\\site-packages (from jsonschema>=3.0->altair<6,>=4.0->streamlit) (2025.4.1)\n",
      "Requirement already satisfied: referencing>=0.28.4 in c:\\users\\sunil\\anaconda3\\envs\\cleanenv\\lib\\site-packages (from jsonschema>=3.0->altair<6,>=4.0->streamlit) (0.36.2)\n",
      "Requirement already satisfied: rpds-py>=0.7.1 in c:\\users\\sunil\\anaconda3\\envs\\cleanenv\\lib\\site-packages (from jsonschema>=3.0->altair<6,>=4.0->streamlit) (0.24.0)\n",
      "Requirement already satisfied: six>=1.5 in c:\\users\\sunil\\anaconda3\\envs\\cleanenv\\lib\\site-packages (from python-dateutil>=2.8.2->pandas<3,>=1.4.0->streamlit) (1.17.0)\n"
     ]
    }
   ],
   "source": [
    "!pip install streamlit"
   ]
  },
  {
   "cell_type": "markdown",
   "metadata": {},
   "source": [
    "Now let's create a Streamlit app file. Run the cell below to create the app:"
   ]
  },
  {
   "cell_type": "code",
   "execution_count": null,
   "metadata": {},
   "outputs": [
    {
     "name": "stdout",
     "output_type": "stream",
     "text": [
      "✅ Streamlit app created: streamlit_chatbot.py\n",
      "\n",
      "To run the app locally:\n",
      "streamlit run streamlit_chatbot.py\n"
     ]
    }
   ],
   "source": [
    "# Create a Streamlit app file\n",
    "streamlit_app_code = '''\n",
    "import streamlit as st\n",
    "import os\n",
    "from langchain_groq import ChatGroq\n",
    "from langchain_core.messages import HumanMessage, AIMessage\n",
    "from langchain_community.chat_message_histories import ChatMessageHistory\n",
    "from langchain_core.chat_history import BaseChatMessageHistory\n",
    "from langchain_core.runnables.history import RunnableWithMessageHistory\n",
    "from langchain_core.prompts import ChatPromptTemplate, MessagesPlaceholder\n",
    "\n",
    "# Set page config\n",
    "st.set_page_config(page_title=\"AI Chatbot\", page_icon=\"🤖\")\n",
    "\n",
    "# Title\n",
    "st.title(\"🤖 AI Chatbot\")\n",
    "st.write(\"Chat with our AI assistant powered by Groq!\")\n",
    "\n",
    "# Sidebar for API key\n",
    "with st.sidebar:\n",
    "    st.header(\"Configuration\")\n",
    "    groq_api_key = st.text_input(\"Enter Groq API Key:\", type=\"password\")\n",
    "    if not groq_api_key:\n",
    "        st.warning(\"Please enter your Groq API key to continue.\")\n",
    "        st.info(\"Get your API key from: https://console.groq.com/keys\")\n",
    "\n",
    "# Initialize session state\n",
    "if \"messages\" not in st.session_state:\n",
    "    st.session_state.messages = []\n",
    "\n",
    "if \"store\" not in st.session_state:\n",
    "    st.session_state.store = {}\n",
    "\n",
    "def get_session_history(session_id: str) -> BaseChatMessageHistory:\n",
    "    if session_id not in st.session_state.store:\n",
    "        st.session_state.store[session_id] = ChatMessageHistory()\n",
    "    return st.session_state.store[session_id]\n",
    "\n",
    "if groq_api_key:\n",
    "    # Initialize the model\n",
    "    try:\n",
    "        model = ChatGroq(model=\"Gemma2-9b-It\", groq_api_key=groq_api_key)\n",
    "        \n",
    "        # Create prompt template\n",
    "        prompt = ChatPromptTemplate.from_messages([\n",
    "            (\"system\", \"You are a helpful assistant. Answer all questions to the best of your ability.\"),\n",
    "            MessagesPlaceholder(variable_name=\"messages\")\n",
    "        ])\n",
    "        \n",
    "        chain = prompt | model\n",
    "        \n",
    "        # Wrap with message history\n",
    "        with_message_history = RunnableWithMessageHistory(chain, get_session_history)\n",
    "        \n",
    "        # Display chat messages\n",
    "        for message in st.session_state.messages:\n",
    "            with st.chat_message(message[\"role\"]):\n",
    "                st.write(message[\"content\"])\n",
    "        \n",
    "        # Chat input\n",
    "        if prompt_input := st.chat_input(\"Type your message here...\"):\n",
    "            # Add user message to chat history\n",
    "            st.session_state.messages.append({\"role\": \"user\", \"content\": prompt_input})\n",
    "            with st.chat_message(\"user\"):\n",
    "                st.write(prompt_input)\n",
    "            \n",
    "            # Generate response\n",
    "            with st.chat_message(\"assistant\"):\n",
    "                with st.spinner(\"Thinking...\"):\n",
    "                    config = {\"configurable\": {\"session_id\": \"streamlit_session\"}}\n",
    "                    response = with_message_history.invoke(\n",
    "                        [HumanMessage(content=prompt_input)],\n",
    "                        config=config\n",
    "                    )\n",
    "                    st.write(response.content)\n",
    "            \n",
    "            # Add assistant response to chat history\n",
    "            st.session_state.messages.append({\"role\": \"assistant\", \"content\": response.content})\n",
    "    \n",
    "    except Exception as e:\n",
    "        st.error(f\"Error initializing chatbot: {str(e)}\")\n",
    "        st.info(\"Please check your API key and try again.\")\n",
    "\n",
    "# Instructions\n",
    "with st.expander(\"ℹ️ How to use\"):\n",
    "    st.write(\"\"\"\n",
    "    1. Enter your Groq API key in the sidebar\n",
    "    2. Start chatting with the AI assistant\n",
    "    3. The bot will remember your conversation history\n",
    "    4. You can ask questions, have conversations, or request help with various topics\n",
    "    \"\"\")\n",
    "'''\n",
    "\n",
    "# Write the Streamlit app to a file\n",
    "with open('streamlit_chatbot.py', 'w') as f:\n",
    "    f.write(streamlit_app_code)\n",
    "\n",
    "print(\"✅ Streamlit app created: streamlit_chatbot.py\")\n",
    "print(\"\\nTo run the app locally:\")\n",
    "print(\"streamlit run streamlit_chatbot.py\")"
   ]
  },
  {
   "cell_type": "markdown",
   "metadata": {},
   "source": [
    "### Option 2: Flask API\n",
    "\n",
    "Create a REST API that can be integrated into any application:"
   ]
  },
  {
   "cell_type": "code",
   "execution_count": null,
   "metadata": {},
   "outputs": [
    {
     "name": "stdout",
     "output_type": "stream",
     "text": [
      "Requirement already satisfied: flask in c:\\users\\sunil\\anaconda3\\envs\\cleanenv\\lib\\site-packages (3.1.0)\n",
      "Requirement already satisfied: flask-cors in c:\\users\\sunil\\anaconda3\\envs\\cleanenv\\lib\\site-packages (5.0.1)\n",
      "Requirement already satisfied: Werkzeug>=3.1 in c:\\users\\sunil\\anaconda3\\envs\\cleanenv\\lib\\site-packages (from flask) (3.1.3)\n",
      "Requirement already satisfied: Jinja2>=3.1.2 in c:\\users\\sunil\\anaconda3\\envs\\cleanenv\\lib\\site-packages (from flask) (3.1.6)\n",
      "Requirement already satisfied: itsdangerous>=2.2 in c:\\users\\sunil\\anaconda3\\envs\\cleanenv\\lib\\site-packages (from flask) (2.2.0)\n",
      "Requirement already satisfied: click>=8.1.3 in c:\\users\\sunil\\anaconda3\\envs\\cleanenv\\lib\\site-packages (from flask) (8.1.8)\n",
      "Requirement already satisfied: blinker>=1.9 in c:\\users\\sunil\\anaconda3\\envs\\cleanenv\\lib\\site-packages (from flask) (1.9.0)\n",
      "Requirement already satisfied: colorama in c:\\users\\sunil\\anaconda3\\envs\\cleanenv\\lib\\site-packages (from click>=8.1.3->flask) (0.4.6)\n",
      "Requirement already satisfied: MarkupSafe>=2.0 in c:\\users\\sunil\\anaconda3\\envs\\cleanenv\\lib\\site-packages (from Jinja2>=3.1.2->flask) (3.0.2)\n"
     ]
    }
   ],
   "source": [
    "!pip install flask flask-cors"
   ]
  },
  {
   "cell_type": "code",
   "execution_count": null,
   "metadata": {},
   "outputs": [
    {
     "name": "stdout",
     "output_type": "stream",
     "text": [
      "✅ Flask API created: flask_chatbot.py\n",
      "\n",
      "To run the API locally:\n",
      "python flask_chatbot.py\n",
      "\n",
      "API will be available at: http://localhost:5000\n"
     ]
    }
   ],
   "source": [
    "# Create a Flask API\n",
    "flask_app_code = '''\n",
    "from flask import Flask, request, jsonify\n",
    "from flask_cors import CORS\n",
    "import os\n",
    "from langchain_groq import ChatGroq\n",
    "from langchain_core.messages import HumanMessage, AIMessage\n",
    "from langchain_community.chat_message_histories import ChatMessageHistory\n",
    "from langchain_core.chat_history import BaseChatMessageHistory\n",
    "from langchain_core.runnables.history import RunnableWithMessageHistory\n",
    "from langchain_core.prompts import ChatPromptTemplate, MessagesPlaceholder\n",
    "\n",
    "app = Flask(__name__)\n",
    "CORS(app)  # Enable CORS for all routes\n",
    "\n",
    "# Global variables\n",
    "store = {}\n",
    "model = None\n",
    "with_message_history = None\n",
    "\n",
    "def get_session_history(session_id: str) -> BaseChatMessageHistory:\n",
    "    if session_id not in store:\n",
    "        store[session_id] = ChatMessageHistory()\n",
    "    return store[session_id]\n",
    "\n",
    "def initialize_model(api_key):\n",
    "    global model, with_message_history\n",
    "    try:\n",
    "        model = ChatGroq(model=\"Gemma2-9b-It\", groq_api_key=api_key)\n",
    "        \n",
    "        prompt = ChatPromptTemplate.from_messages([\n",
    "            (\"system\", \"You are a helpful assistant. Answer all questions to the best of your ability.\"),\n",
    "            MessagesPlaceholder(variable_name=\"messages\")\n",
    "        ])\n",
    "        \n",
    "        chain = prompt | model\n",
    "        with_message_history = RunnableWithMessageHistory(chain, get_session_history)\n",
    "        return True\n",
    "    except Exception as e:\n",
    "        print(f\"Error initializing model: {e}\")\n",
    "        return False\n",
    "\n",
    "@app.route('/', methods=['GET'])\n",
    "def home():\n",
    "    return jsonify({\n",
    "        \"message\": \"AI Chatbot API is running!\",\n",
    "        \"endpoints\": {\n",
    "            \"POST /chat\": \"Send a message to the chatbot\",\n",
    "            \"GET /health\": \"Check API health\"\n",
    "        }\n",
    "    })\n",
    "\n",
    "@app.route('/health', methods=['GET'])\n",
    "def health():\n",
    "    return jsonify({\"status\": \"healthy\", \"model_initialized\": model is not None})\n",
    "\n",
    "@app.route('/chat', methods=['POST'])\n",
    "def chat():\n",
    "    try:\n",
    "        data = request.json\n",
    "        \n",
    "        if not data or 'message' not in data:\n",
    "            return jsonify({\"error\": \"Message is required\"}), 400\n",
    "        \n",
    "        api_key = data.get('api_key') or os.getenv('GROQ_API_KEY')\n",
    "        if not api_key:\n",
    "            return jsonify({\"error\": \"API key is required\"}), 401\n",
    "        \n",
    "        # Initialize model if not already done\n",
    "        if model is None:\n",
    "            if not initialize_model(api_key):\n",
    "                return jsonify({\"error\": \"Failed to initialize model\"}), 500\n",
    "        \n",
    "        message = data['message']\n",
    "        session_id = data.get('session_id', 'default_session')\n",
    "        \n",
    "        # Generate response\n",
    "        config = {\"configurable\": {\"session_id\": session_id}}\n",
    "        response = with_message_history.invoke(\n",
    "            [HumanMessage(content=message)],\n",
    "            config=config\n",
    "        )\n",
    "        \n",
    "        return jsonify({\n",
    "            \"response\": response.content,\n",
    "            \"session_id\": session_id\n",
    "        })\n",
    "    \n",
    "    except Exception as e:\n",
    "        return jsonify({\"error\": str(e)}), 500\n",
    "\n",
    "if __name__ == '__main__':\n",
    "    # Try to initialize with environment variable\n",
    "    api_key = os.getenv('GROQ_API_KEY')\n",
    "    if api_key:\n",
    "        initialize_model(api_key)\n",
    "    \n",
    "    app.run(debug=True, host='0.0.0.0', port=5000)\n",
    "'''\n",
    "\n",
    "# Write the Flask app to a file\n",
    "with open('flask_chatbot.py', 'w') as f:\n",
    "    f.write(flask_app_code)\n",
    "\n",
    "print(\"✅ Flask API created: flask_chatbot.py\")\n",
    "print(\"\\nTo run the API locally:\")\n",
    "print(\"python flask_chatbot.py\")\n",
    "print(\"\\nAPI will be available at: http://localhost:5000\")"
   ]
  },
  {
   "cell_type": "markdown",
   "metadata": {},
   "source": [
    "### Deployment Files\n",
    "\n",
    "Let's create the necessary files for deployment:"
   ]
  },
  {
   "cell_type": "code",
   "execution_count": null,
   "metadata": {},
   "outputs": [
    {
     "name": "stdout",
     "output_type": "stream",
     "text": [
      "✅ Created deployment files:\n",
      "  - requirements.txt\n",
      "  - chatbot_interface.html\n"
     ]
    }
   ],
   "source": [
    "# Create requirements.txt\n",
    "requirements = '''\n",
    "streamlit>=1.28.0\n",
    "langchain-groq>=0.1.0\n",
    "langchain-core>=0.2.0\n",
    "langchain-community>=0.2.0\n",
    "python-dotenv>=1.0.0\n",
    "flask>=2.3.0\n",
    "flask-cors>=4.0.0\n",
    "'''\n",
    "\n",
    "with open('requirements.txt', 'w') as f:\n",
    "    f.write(requirements.strip())\n",
    "\n",
    "# Create a simple HTML interface for the Flask API\n",
    "html_interface = '''\n",
    "<!DOCTYPE html>\n",
    "<html lang=\"en\">\n",
    "<head>\n",
    "    <meta charset=\"UTF-8\">\n",
    "    <meta name=\"viewport\" content=\"width=device-width, initial-scale=1.0\">\n",
    "    <title>AI Chatbot</title>\n",
    "    <style>\n",
    "        body { font-family: Arial, sans-serif; max-width: 800px; margin: 0 auto; padding: 20px; }\n",
    "        .chat-container { border: 1px solid #ddd; height: 400px; overflow-y: scroll; padding: 20px; margin-bottom: 20px; }\n",
    "        .message { margin-bottom: 10px; padding: 10px; border-radius: 5px; }\n",
    "        .user { background-color: #e3f2fd; text-align: right; }\n",
    "        .assistant { background-color: #f5f5f5; }\n",
    "        .input-container { display: flex; gap: 10px; }\n",
    "        input[type=\"text\"] { flex: 1; padding: 10px; border: 1px solid #ddd; border-radius: 5px; }\n",
    "        button { padding: 10px 20px; background-color: #2196F3; color: white; border: none; border-radius: 5px; cursor: pointer; }\n",
    "        button:hover { background-color: #1976D2; }\n",
    "        .api-key-input { margin-bottom: 20px; }\n",
    "    </style>\n",
    "</head>\n",
    "<body>\n",
    "    <h1>🤖 AI Chatbot</h1>\n",
    "    \n",
    "    <div class=\"api-key-input\">\n",
    "        <input type=\"password\" id=\"apiKey\" placeholder=\"Enter your Groq API key\" style=\"width: 100%; margin-bottom: 10px;\">\n",
    "    </div>\n",
    "    \n",
    "    <div class=\"chat-container\" id=\"chatContainer\"></div>\n",
    "    \n",
    "    <div class=\"input-container\">\n",
    "        <input type=\"text\" id=\"messageInput\" placeholder=\"Type your message...\" onkeypress=\"handleKeyPress(event)\">\n",
    "        <button onclick=\"sendMessage()\">Send</button>\n",
    "    </div>\n",
    "\n",
    "    <script>\n",
    "        const API_URL = 'http://localhost:5000/chat';\n",
    "        \n",
    "        function handleKeyPress(event) {\n",
    "            if (event.key === 'Enter') {\n",
    "                sendMessage();\n",
    "            }\n",
    "        }\n",
    "        \n",
    "        function addMessage(content, isUser) {\n",
    "            const chatContainer = document.getElementById('chatContainer');\n",
    "            const messageDiv = document.createElement('div');\n",
    "            messageDiv.className = `message ${isUser ? 'user' : 'assistant'}`;\n",
    "            messageDiv.textContent = content;\n",
    "            chatContainer.appendChild(messageDiv);\n",
    "            chatContainer.scrollTop = chatContainer.scrollHeight;\n",
    "        }\n",
    "        \n",
    "        async function sendMessage() {\n",
    "            const messageInput = document.getElementById('messageInput');\n",
    "            const apiKeyInput = document.getElementById('apiKey');\n",
    "            const message = messageInput.value.trim();\n",
    "            const apiKey = apiKeyInput.value.trim();\n",
    "            \n",
    "            if (!message) return;\n",
    "            if (!apiKey) {\n",
    "                alert('Please enter your Groq API key');\n",
    "                return;\n",
    "            }\n",
    "            \n",
    "            addMessage(message, true);\n",
    "            messageInput.value = '';\n",
    "            \n",
    "            try {\n",
    "                const response = await fetch(API_URL, {\n",
    "                    method: 'POST',\n",
    "                    headers: {\n",
    "                        'Content-Type': 'application/json',\n",
    "                    },\n",
    "                    body: JSON.stringify({\n",
    "                        message: message,\n",
    "                        api_key: apiKey,\n",
    "                        session_id: 'web_session'\n",
    "                    })\n",
    "                });\n",
    "                \n",
    "                const data = await response.json();\n",
    "                \n",
    "                if (response.ok) {\n",
    "                    addMessage(data.response, false);\n",
    "                } else {\n",
    "                    addMessage(`Error: ${data.error}`, false);\n",
    "                }\n",
    "            } catch (error) {\n",
    "                addMessage(`Error: ${error.message}`, false);\n",
    "            }\n",
    "        }\n",
    "    </script>\n",
    "</body>\n",
    "</html>\n",
    "'''\n",
    "\n",
    "with open('chatbot_interface.html', 'w') as f:\n",
    "    f.write(html_interface)\n",
    "\n",
    "print(\"✅ Created deployment files:\")\n",
    "print(\"  - requirements.txt\")\n",
    "print(\"  - chatbot_interface.html\")"
   ]
  },
  {
   "cell_type": "markdown",
   "metadata": {},
   "source": [
    "### Deployment Instructions\n",
    "\n",
    "#### 1. Streamlit Cloud (Easiest - Free)\n",
    "1. Push your code to GitHub repository\n",
    "2. Go to [share.streamlit.io](https://share.streamlit.io)\n",
    "3. Connect your GitHub account\n",
    "4. Deploy `streamlit_chatbot.py`\n",
    "5. Add your `GROQ_API_KEY` in the secrets\n",
    "\n",
    "#### 2. Railway (Free Tier)\n",
    "1. Go to [railway.app](https://railway.app)\n",
    "2. Create new project from GitHub\n",
    "3. Add environment variable: `GROQ_API_KEY`\n",
    "4. Deploy automatically\n",
    "\n",
    "#### 3. Render (Free Tier) - Detailed Guide\n",
    "\n",
    "**Render** is an excellent platform for deploying web applications with a generous free tier. Here's a complete step-by-step guide:\n",
    "\n",
    "##### Prerequisites:\n",
    "- GitHub account with your chatbot code\n",
    "- Render account (free at [render.com](https://render.com))\n",
    "- Your Groq API key\n",
    "\n",
    "##### Step-by-Step Deployment:\n",
    "\n",
    "**Step 1: Prepare Your Repository**\n",
    "1. Ensure all files are in your GitHub repository:\n",
    "   - `streamlit_chatbot.py` (main app file)\n",
    "   - `requirements.txt` (dependencies)\n",
    "   - Optional: `flask_chatbot.py` and `chatbot_interface.html`\n",
    "\n",
    "**Step 2: Create a Render Account**\n",
    "1. Go to [render.com](https://render.com)\n",
    "2. Sign up with your GitHub account (recommended)\n",
    "3. Authorize Render to access your repositories\n",
    "\n",
    "**Step 3: Create a New Web Service**\n",
    "1. Click **\"New +\"** → **\"Web Service\"**\n",
    "2. Connect your GitHub repository\n",
    "3. Select the repository containing your chatbot\n",
    "4. Click **\"Connect\"**\n",
    "\n",
    "**Step 4: Configure Your Service**\n",
    "```\n",
    "Name: my-ai-chatbot (or any name you prefer)\n",
    "Region: Choose closest to your users\n",
    "Branch: main (or your default branch)\n",
    "Runtime: Python 3\n",
    "Build Command: pip install -r requirements.txt\n",
    "Start Command: streamlit run streamlit_chatbot.py --server.port=$PORT --server.address=0.0.0.0\n",
    "```\n",
    "\n",
    "**Step 5: Set Environment Variables**\n",
    "1. Scroll down to **\"Environment Variables\"**\n",
    "2. Click **\"Add Environment Variable\"**\n",
    "3. Add:\n",
    "   - **Key:** `GROQ_API_KEY`\n",
    "   - **Value:** Your actual Groq API key\n",
    "4. Optionally add:\n",
    "   - **Key:** `PORT`\n",
    "   - **Value:** `8501` (Streamlit default port)\n",
    "\n",
    "**Step 6: Choose Plan**\n",
    "1. Select **\"Free\"** plan (limited but good for testing)\n",
    "2. Free tier includes:\n",
    "   - 750 hours/month (about 31 days)\n",
    "   - Automatic sleep after 15 minutes of inactivity\n",
    "   - Custom domain support\n",
    "   - HTTPS included\n",
    "\n",
    "**Step 7: Deploy**\n",
    "1. Click **\"Create Web Service\"**\n",
    "2. Render will automatically:\n",
    "   - Clone your repository\n",
    "   - Install dependencies\n",
    "   - Start your application\n",
    "3. Watch the build logs for any errors\n",
    "\n",
    "**Step 8: Access Your App**\n",
    "1. Once deployed, you'll get a URL like:\n",
    "   `https://my-ai-chatbot-abc123.onrender.com`\n",
    "2. Your chatbot is now live and accessible worldwide!\n",
    "\n",
    "##### Render-Specific Configuration:\n",
    "\n",
    "**For Streamlit Apps:**\n",
    "- Build Command: `pip install -r requirements.txt`\n",
    "- Start Command: `streamlit run streamlit_chatbot.py --server.port=$PORT --server.address=0.0.0.0 --server.headless=true --server.enableCORS=false --server.enableXsrfProtection=false`\n",
    "\n",
    "**For Flask Apps:**\n",
    "- Build Command: `pip install -r requirements.txt`\n",
    "- Start Command: `python flask_chatbot.py`\n",
    "\n",
    "##### Troubleshooting Common Issues:\n",
    "\n",
    "**1. Build Failures:**\n",
    "- Check `requirements.txt` for correct package names\n",
    "- Ensure all dependencies are listed\n",
    "- Check build logs for specific error messages\n",
    "\n",
    "**2. App Won't Start:**\n",
    "- Verify start command is correct\n",
    "- Check for syntax errors in your code\n",
    "- Ensure environment variables are set correctly\n",
    "\n",
    "**3. API Key Issues:**\n",
    "- Double-check your Groq API key is valid\n",
    "- Ensure environment variable name matches your code\n",
    "- Check API key has proper permissions\n",
    "\n",
    "**4. Port Issues:**\n",
    "- Always use `$PORT` environment variable in start command\n",
    "- Don't hardcode port numbers\n",
    "- For Streamlit: `--server.port=$PORT`\n",
    "\n",
    "##### Free Tier Limitations:\n",
    "- **Sleep Mode:** App sleeps after 15 minutes of inactivity\n",
    "- **Cold Starts:** May take 30-60 seconds to wake up\n",
    "- **Resource Limits:** 512MB RAM, shared CPU\n",
    "- **Build Time:** Limited monthly build minutes\n",
    "\n",
    "##### Upgrading to Paid Plans:\n",
    "- **Starter ($7/month):** No sleep, faster builds, more resources\n",
    "- **Standard ($25/month):** Dedicated resources, faster performance\n",
    "\n",
    "##### Advanced Features:**\n",
    "- **Custom Domains:** Point your own domain to the app\n",
    "- **Auto-Deploy:** Automatic deployment on git push\n",
    "- **Environment Groups:** Manage variables across services\n",
    "- **Health Checks:** Monitor app status\n",
    "- **Logs:** Real-time application logs\n",
    "\n",
    "##### Security Best Practices:**\n",
    "- Never commit API keys to your repository\n",
    "- Use environment variables for all secrets\n",
    "- Enable HTTPS (included by default)\n",
    "- Consider adding authentication for production use\n",
    "\n",
    "#### 4. Local Testing\n",
    "```bash\n",
    "# For Streamlit\n",
    "streamlit run streamlit_chatbot.py\n",
    "\n",
    "# For Flask API\n",
    "python flask_chatbot.py\n",
    "# Then open chatbot_interface.html in your browser\n",
    "```\n",
    "\n",
    "#### 5. Environment Variables\n",
    "Make sure to set these environment variables on your hosting platform:\n",
    "- `GROQ_API_KEY`: Your Groq API key\n",
    "\n",
    "#### 6. Security Notes\n",
    "- Never commit API keys to your repository\n",
    "- Use environment variables for sensitive data\n",
    "- Consider implementing rate limiting for production use\n",
    "- Add authentication if needed"
   ]
  },
  {
   "cell_type": "markdown",
   "metadata": {},
   "source": [
    "## Deployment Dependency Validation\n",
    "\n",
    "Before deploying, let's thoroughly validate all dependencies to ensure our chatbot will work correctly in production environments."
   ]
  },
  {
   "cell_type": "code",
   "execution_count": null,
   "metadata": {},
   "outputs": [],
   "source": [
    "# Comprehensive dependency validation for deployment\n",
    "import subprocess\n",
    "import sys\n",
    "import pkg_resources\n",
    "from importlib import import_module\n",
    "\n",
    "def check_package_version(package_name, min_version=None):\n",
    "    \"\"\"Check if package is installed and optionally verify minimum version\"\"\"\n",
    "    try:\n",
    "        package = pkg_resources.get_distribution(package_name)\n",
    "        if min_version:\n",
    "            if pkg_resources.parse_version(package.version) >= pkg_resources.parse_version(min_version):\n",
    "                print(f\"✅ {package_name}: {package.version} (>= {min_version})\")\n",
    "                return True\n",
    "            else:\n",
    "                print(f\"❌ {package_name}: {package.version} (< {min_version} - UPGRADE NEEDED)\")\n",
    "                return False\n",
    "        else:\n",
    "            print(f\"✅ {package_name}: {package.version}\")\n",
    "            return True\n",
    "    except pkg_resources.DistributionNotFound:\n",
    "        print(f\"❌ {package_name}: NOT INSTALLED\")\n",
    "        return False\n",
    "\n",
    "def check_import(module_name, package_name=None):\n",
    "    \"\"\"Check if module can be imported\"\"\"\n",
    "    try:\n",
    "        import_module(module_name)\n",
    "        print(f\"✅ Import {module_name}: SUCCESS\")\n",
    "        return True\n",
    "    except ImportError as e:\n",
    "        print(f\"❌ Import {module_name}: FAILED - {e}\")\n",
    "        if package_name:\n",
    "            print(f\"   Install with: pip install {package_name}\")\n",
    "        return False\n",
    "\n",
    "print(\"🔍 DEPLOYMENT DEPENDENCY VALIDATION\\n\")\n",
    "print(\"=\" * 50)\n",
    "\n",
    "# Core dependencies with minimum versions\n",
    "core_deps = [\n",
    "    ('langchain-core', '0.2.0'),\n",
    "    ('langchain-community', '0.2.0'),\n",
    "    ('langchain-groq', '0.1.0'),\n",
    "    ('pydantic', '2.0.0'),\n",
    "]\n",
    "\n",
    "print(\"\\n📦 CORE LANGCHAIN DEPENDENCIES:\")\n",
    "core_ok = all(check_package_version(pkg, ver) for pkg, ver in core_deps)\n",
    "\n",
    "# Web framework dependencies\n",
    "web_deps = [\n",
    "    ('streamlit', '1.28.0'),\n",
    "    ('flask', '2.3.0'),\n",
    "    ('flask-cors', '4.0.0'),\n",
    "]\n",
    "\n",
    "print(\"\\n🌐 WEB FRAMEWORK DEPENDENCIES:\")\n",
    "web_ok = all(check_package_version(pkg, ver) for pkg, ver in web_deps)\n",
    "\n",
    "# HTTP and utility dependencies\n",
    "util_deps = [\n",
    "    ('requests', '2.31.0'),\n",
    "    ('httpx', '0.24.0'),\n",
    "    ('python-dotenv', '1.0.0'),\n",
    "]\n",
    "\n",
    "print(\"\\n🔧 UTILITY DEPENDENCIES:\")\n",
    "util_ok = all(check_package_version(pkg, ver) for pkg, ver in util_deps)\n",
    "\n",
    "# Optional but recommended\n",
    "optional_deps = [\n",
    "    'gradio',\n",
    "    'cryptography',\n",
    "]\n",
    "\n",
    "print(\"\\n🎯 OPTIONAL DEPENDENCIES:\")\n",
    "for pkg in optional_deps:\n",
    "    check_package_version(pkg)\n",
    "\n",
    "# Import validation\n",
    "print(\"\\n🔍 IMPORT VALIDATION:\")\n",
    "imports_to_check = [\n",
    "    ('langchain_groq', 'langchain-groq'),\n",
    "    ('langchain_core.messages', 'langchain-core'),\n",
    "    ('langchain_community.chat_message_histories', 'langchain-community'),\n",
    "    ('langchain_core.chat_history', 'langchain-core'),\n",
    "    ('langchain_core.runnables.history', 'langchain-core'),\n",
    "    ('langchain_core.prompts', 'langchain-core'),\n",
    "    ('streamlit', 'streamlit'),\n",
    "    ('flask', 'flask'),\n",
    "    ('flask_cors', 'flask-cors'),\n",
    "    ('dotenv', 'python-dotenv'),\n",
    "]\n",
    "\n",
    "import_ok = all(check_import(mod, pkg) for mod, pkg in imports_to_check)\n",
    "\n",
    "print(\"\\n\" + \"=\" * 50)\n",
    "print(\"📋 DEPLOYMENT READINESS SUMMARY:\")\n",
    "print(f\"Core Dependencies: {'✅ READY' if core_ok else '❌ ISSUES FOUND'}\") \n",
    "print(f\"Web Dependencies: {'✅ READY' if web_ok else '❌ ISSUES FOUND'}\")\n",
    "print(f\"Utility Dependencies: {'✅ READY' if util_ok else '❌ ISSUES FOUND'}\")\n",
    "print(f\"Import Validation: {'✅ READY' if import_ok else '❌ ISSUES FOUND'}\")\n",
    "\n",
    "overall_ready = core_ok and web_ok and util_ok and import_ok\n",
    "print(f\"\\n🚀 OVERALL STATUS: {'✅ READY FOR DEPLOYMENT' if overall_ready else '❌ FIX ISSUES BEFORE DEPLOYMENT'}\")\n",
    "\n",
    "if not overall_ready:\n",
    "    print(\"\\n🔧 RECOMMENDED ACTIONS:\")\n",
    "    print(\"1. Run: pip install -r requirements.txt\")\n",
    "    print(\"2. Upgrade packages: pip install --upgrade <package-name>\")\n",
    "    print(\"3. Check for conflicts: pip check\")\n",
    "    print(\"4. Re-run this validation\")"
   ]
  },
  {
   "cell_type": "code",
   "execution_count": null,
   "metadata": {},
   "outputs": [],
   "source": [
    "# Create enhanced requirements.txt with precise versions and comments\n",
    "enhanced_requirements = '''# AI Chatbot - Production Requirements\n",
    "# Generated for deployment validation\n",
    "\n",
    "# Core LangChain Framework\n",
    "langchain-core>=0.2.0,<0.3.0\n",
    "langchain-community>=0.2.0,<0.3.0\n",
    "langchain-groq>=0.1.0,<0.2.0\n",
    "\n",
    "# Data Validation and Serialization\n",
    "pydantic>=2.0.0,<3.0.0\n",
    "\n",
    "# Environment Configuration\n",
    "python-dotenv>=1.0.0,<2.0.0\n",
    "\n",
    "# Web Frameworks\n",
    "streamlit>=1.28.0,<2.0.0\n",
    "flask>=2.3.0,<3.0.0\n",
    "flask-cors>=4.0.0,<5.0.0\n",
    "\n",
    "# HTTP Clients\n",
    "requests>=2.31.0,<3.0.0\n",
    "httpx>=0.24.0,<1.0.0\n",
    "\n",
    "# Security\n",
    "cryptography>=41.0.0,<42.0.0\n",
    "\n",
    "# Optional UI Framework\n",
    "gradio>=3.50.0,<4.0.0\n",
    "\n",
    "# Development Tools (optional for local development)\n",
    "jupyter>=1.0.0,<2.0.0\n",
    "notebook>=6.5.0,<7.0.0\n",
    "ipykernel>=6.25.0,<7.0.0\n",
    "\n",
    "# Additional dependencies that might be needed\n",
    "typing-extensions>=4.5.0\n",
    "attrs>=22.1.0\n",
    "certifi>=2023.0.0\n",
    "charset-normalizer>=3.0.0\n",
    "idna>=3.4\n",
    "urllib3>=2.0.0,<3.0.0\n",
    "'''\n",
    "\n",
    "# Write enhanced requirements\n",
    "with open('requirements-production.txt', 'w') as f:\n",
    "    f.write(enhanced_requirements)\n",
    "\n",
    "print(\"✅ Enhanced requirements-production.txt created!\")\n",
    "print(\"\\nThis file includes:\")\n",
    "print(\"- Pinned version ranges for stability\")\n",
    "print(\"- Comments for clarity\")\n",
    "print(\"- Additional system dependencies\")\n",
    "print(\"- Deployment-optimized package selection\")"
   ]
  },
  {
   "cell_type": "code",
   "execution_count": null,
   "metadata": {},
   "outputs": [
    {
     "name": "stdout",
     "output_type": "stream",
     "text": [
      "✅ Deployment verification script created: verify_deployment.py\n",
      "\n",
      "Run this before deployment:\n",
      "python verify_deployment.py\n"
     ]
    }
   ],
   "source": [
    "# Create deployment verification script\n",
    "deployment_check_script = '''#!/usr/bin/env python3\n",
    "\"\"\"\n",
    "Deployment Verification Script\n",
    "Run this script before deploying to ensure all dependencies work correctly\n",
    "\"\"\"\n",
    "\n",
    "import sys\n",
    "import os\n",
    "from typing import List, Tuple\n",
    "\n",
    "def test_langchain_imports():\n",
    "    \"\"\"Test all LangChain related imports\"\"\"\n",
    "    try:\n",
    "        from langchain_groq import ChatGroq\n",
    "        from langchain_core.messages import HumanMessage, AIMessage, SystemMessage\n",
    "        from langchain_community.chat_message_histories import ChatMessageHistory\n",
    "        from langchain_core.chat_history import BaseChatMessageHistory\n",
    "        from langchain_core.runnables.history import RunnableWithMessageHistory\n",
    "        from langchain_core.prompts import ChatPromptTemplate, MessagesPlaceholder\n",
    "        from langchain_core.messages import trim_messages\n",
    "        from langchain_core.runnables import RunnablePassthrough\n",
    "        print(\"✅ All LangChain imports successful\")\n",
    "        return True\n",
    "    except ImportError as e:\n",
    "        print(f\"❌ LangChain import failed: {e}\")\n",
    "        return False\n",
    "\n",
    "def test_web_framework_imports():\n",
    "    \"\"\"Test web framework imports\"\"\"\n",
    "    streamlit_ok = flask_ok = True\n",
    "    \n",
    "    try:\n",
    "        import streamlit as st\n",
    "        print(\"✅ Streamlit import successful\")\n",
    "    except ImportError as e:\n",
    "        print(f\"❌ Streamlit import failed: {e}\")\n",
    "        streamlit_ok = False\n",
    "    \n",
    "    try:\n",
    "        from flask import Flask, request, jsonify\n",
    "        from flask_cors import CORS\n",
    "        print(\"✅ Flask imports successful\")\n",
    "    except ImportError as e:\n",
    "        print(f\"❌ Flask import failed: {e}\")\n",
    "        flask_ok = False\n",
    "    \n",
    "    return streamlit_ok and flask_ok\n",
    "\n",
    "def test_utility_imports():\n",
    "    \"\"\"Test utility imports\"\"\"\n",
    "    try:\n",
    "        import requests\n",
    "        import httpx\n",
    "        from dotenv import load_dotenv\n",
    "        import pydantic\n",
    "        print(\"✅ All utility imports successful\")\n",
    "        return True\n",
    "    except ImportError as e:\n",
    "        print(f\"❌ Utility import failed: {e}\")\n",
    "        return False\n",
    "\n",
    "def test_basic_functionality():\n",
    "    \"\"\"Test basic chatbot functionality without API key\"\"\"\n",
    "    try:\n",
    "        from langchain_core.messages import HumanMessage\n",
    "        from langchain_community.chat_message_histories import ChatMessageHistory\n",
    "        \n",
    "        # Test message history\n",
    "        history = ChatMessageHistory()\n",
    "        history.add_user_message(\"Test message\")\n",
    "        messages = history.messages\n",
    "        assert len(messages) == 1\n",
    "        assert messages[0].content == \"Test message\"\n",
    "        \n",
    "        print(\"✅ Basic functionality test passed\")\n",
    "        return True\n",
    "    except Exception as e:\n",
    "        print(f\"❌ Basic functionality test failed: {e}\")\n",
    "        return False\n",
    "\n",
    "def check_environment_setup():\n",
    "    \"\"\"Check environment setup for deployment\"\"\"\n",
    "    issues = []\n",
    "    \n",
    "    # Check Python version\n",
    "    if sys.version_info < (3, 8):\n",
    "        issues.append(\"Python 3.8+ required for deployment\")\n",
    "    else:\n",
    "        print(f\"✅ Python version: {sys.version}\")\n",
    "    \n",
    "    # Check for common deployment files\n",
    "    deployment_files = ['requirements.txt', 'streamlit_chatbot.py']\n",
    "    for file in deployment_files:\n",
    "        if os.path.exists(file):\n",
    "            print(f\"✅ Found {file}\")\n",
    "        else:\n",
    "            issues.append(f\"Missing {file}\")\n",
    "    \n",
    "    return len(issues) == 0, issues\n",
    "\n",
    "def main():\n",
    "    \"\"\"Run all deployment checks\"\"\"\n",
    "    print(\"🚀 DEPLOYMENT VERIFICATION STARTING...\\n\")\n",
    "    print(\"=\" * 50)\n",
    "    \n",
    "    tests = [\n",
    "        (\"LangChain Imports\", test_langchain_imports),\n",
    "        (\"Web Framework Imports\", test_web_framework_imports),\n",
    "        (\"Utility Imports\", test_utility_imports),\n",
    "        (\"Basic Functionality\", test_basic_functionality),\n",
    "    ]\n",
    "    \n",
    "    results = []\n",
    "    for test_name, test_func in tests:\n",
    "        print(f\"\\n🔍 Testing {test_name}:\")\n",
    "        result = test_func()\n",
    "        results.append(result)\n",
    "    \n",
    "    print(f\"\\n🔍 Checking Environment Setup:\")\n",
    "    env_ok, env_issues = check_environment_setup()\n",
    "    results.append(env_ok)\n",
    "    \n",
    "    if env_issues:\n",
    "        for issue in env_issues:\n",
    "            print(f\"❌ {issue}\")\n",
    "    \n",
    "    print(\"\\n\" + \"=\" * 50)\n",
    "    print(\"📋 VERIFICATION SUMMARY:\")\n",
    "    \n",
    "    all_passed = all(results)\n",
    "    if all_passed:\n",
    "        print(\"🎉 ALL TESTS PASSED - READY FOR DEPLOYMENT!\")\n",
    "        print(\"\\n📝 Next steps:\")\n",
    "        print(\"1. Set your GROQ_API_KEY environment variable\")\n",
    "        print(\"2. Test locally: streamlit run streamlit_chatbot.py\")\n",
    "        print(\"3. Deploy to your chosen platform\")\n",
    "    else:\n",
    "        print(\"❌ SOME TESTS FAILED - FIX ISSUES BEFORE DEPLOYMENT\")\n",
    "        print(\"\\n🔧 Recommended actions:\")\n",
    "        print(\"1. pip install -r requirements-production.txt\")\n",
    "        print(\"2. Check for any error messages above\")\n",
    "        print(\"3. Re-run this verification script\")\n",
    "    \n",
    "    return all_passed\n",
    "\n",
    "if __name__ == \"__main__\":\n",
    "    success = main()\n",
    "    sys.exit(0 if success else 1)\n",
    "'''\n",
    "\n",
    "# Write deployment check script\n",
    "with open('verify_deployment.py', 'w') as f:\n",
    "    f.write(deployment_check_script)\n",
    "\n",
    "print(\"✅ Deployment verification script created: verify_deployment.py\")\n",
    "print(\"\\nRun this before deployment:\")\n",
    "print(\"python verify_deployment.py\")"
   ]
  }
 ],
 "metadata": {
  "kernelspec": {
   "display_name": "cleanenv",
   "language": "python",
   "name": "python3"
  },
  "language_info": {
   "codemirror_mode": {
    "name": "ipython",
    "version": 3
   },
   "file_extension": ".py",
   "mimetype": "text/x-python",
   "name": "python",
   "nbconvert_exporter": "python",
   "pygments_lexer": "ipython3",
   "version": "3.10.16"
  }
 },
 "nbformat": 4,
 "nbformat_minor": 2
}
